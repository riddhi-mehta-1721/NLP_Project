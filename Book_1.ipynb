{
  "nbformat": 4,
  "nbformat_minor": 0,
  "metadata": {
    "colab": {
      "name": "Book_1.ipynb",
      "provenance": [],
      "collapsed_sections": [],
      "authorship_tag": "ABX9TyPC1L8sPnHdX3TY+AXXWNEc",
      "include_colab_link": true
    },
    "kernelspec": {
      "name": "python3",
      "display_name": "Python 3"
    },
    "accelerator": "GPU"
  },
  "cells": [
    {
      "cell_type": "markdown",
      "metadata": {
        "id": "view-in-github",
        "colab_type": "text"
      },
      "source": [
        "<a href=\"https://colab.research.google.com/github/riddhi-mehta-1721/NLP_Project/blob/master/Book_1.ipynb\" target=\"_parent\"><img src=\"https://colab.research.google.com/assets/colab-badge.svg\" alt=\"Open In Colab\"/></a>"
      ]
    },
    {
      "cell_type": "markdown",
      "metadata": {
        "id": "irt9xdQk5Q-g",
        "colab_type": "text"
      },
      "source": [
        "# NLP PROJECT\n",
        "\n",
        "## RIDDHI MEHTA - J030\n",
        "## HUSAIN GHADIALI - J056"
      ]
    },
    {
      "cell_type": "markdown",
      "metadata": {
        "id": "f0mrto9b3lEq",
        "colab_type": "text"
      },
      "source": [
        "# Importing Libraries"
      ]
    },
    {
      "cell_type": "code",
      "metadata": {
        "id": "6kYlVyLB3TB1",
        "colab_type": "code",
        "outputId": "17593092-70e1-4e2b-a1e9-5a92a552f59c",
        "colab": {
          "base_uri": "https://localhost:8080/",
          "height": 197
        }
      },
      "source": [
        "import pandas as pd\n",
        "import numpy as np\n",
        "\n",
        "import re\n",
        "\n",
        "import seaborn as sns\n",
        "import matplotlib.pyplot as plt\n",
        "\n",
        "import pydotplus\n",
        "import pydot\n",
        "\n",
        "import nltk\n",
        "from nltk import word_tokenize\n",
        "from nltk.corpus import stopwords\n",
        "from nltk.tokenize import word_tokenize\n",
        "\n",
        "from sklearn.feature_extraction.text import TfidfVectorizer\n",
        "from sklearn.ensemble import RandomForestClassifier\n",
        "from sklearn.multioutput import MultiOutputClassifier\n",
        "from sklearn.model_selection import train_test_split\n",
        "from sklearn.naive_bayes import MultinomialNB\n",
        "from sklearn.metrics import accuracy_score\n",
        "from sklearn.multiclass import OneVsRestClassifier\n",
        "from sklearn.preprocessing import StandardScaler\n",
        "from sklearn.pipeline import Pipeline\n",
        "\n",
        "\n",
        "from tensorflow.python.keras.layers import Dense, Embedding, Input, LSTM, Bidirectional, GlobalMaxPool1D, Dropout, Conv1D, MaxPooling1D\n",
        "from tensorflow.python.keras import Sequential\n",
        "from tensorflow.python.keras.models import Model, load_model\n",
        "from tensorflow.python.keras.callbacks import EarlyStopping, ModelCheckpoint\n",
        "\n",
        "import keras\n",
        "from keras.preprocessing.text import Tokenizer\n",
        "from keras.preprocessing.sequence import pad_sequences\n",
        "# from keras.models import Model\n",
        "# from keras.layers import Dense, Embedding, Input, LSTM, Bidirectional, GlobalMaxPool1D, Dropout\n",
        "# from keras.callbacks import EarlyStopping, ModelCheckpoint\n",
        "from keras.utils import plot_model  \n",
        "from keras.utils.vis_utils import model_to_dot\n",
        "\n",
        "nltk.download('punkt')\n",
        "nltk.download('wordnet')\n",
        "nltk.download('stopwords')\n",
        "\n",
        "import warnings\n",
        "warnings.filterwarnings(\"ignore\")\n",
        "\n",
        "import random"
      ],
      "execution_count": 1,
      "outputs": [
        {
          "output_type": "stream",
          "text": [
            "/usr/local/lib/python3.6/dist-packages/statsmodels/tools/_testing.py:19: FutureWarning: pandas.util.testing is deprecated. Use the functions in the public API at pandas.testing instead.\n",
            "  import pandas.util.testing as tm\n",
            "Using TensorFlow backend.\n"
          ],
          "name": "stderr"
        },
        {
          "output_type": "stream",
          "text": [
            "[nltk_data] Downloading package punkt to /root/nltk_data...\n",
            "[nltk_data]   Unzipping tokenizers/punkt.zip.\n",
            "[nltk_data] Downloading package wordnet to /root/nltk_data...\n",
            "[nltk_data]   Unzipping corpora/wordnet.zip.\n",
            "[nltk_data] Downloading package stopwords to /root/nltk_data...\n",
            "[nltk_data]   Unzipping corpora/stopwords.zip.\n"
          ],
          "name": "stdout"
        }
      ]
    },
    {
      "cell_type": "markdown",
      "metadata": {
        "id": "y0j9dM9F3ow3",
        "colab_type": "text"
      },
      "source": [
        "# Mounting Drive"
      ]
    },
    {
      "cell_type": "code",
      "metadata": {
        "id": "f-2gCAmq3i6n",
        "colab_type": "code",
        "outputId": "87d966b4-38e7-4599-f044-36bc876d131b",
        "colab": {
          "base_uri": "https://localhost:8080/",
          "height": 126
        }
      },
      "source": [
        "from google.colab import drive\n",
        "drive.mount('/content/drive')"
      ],
      "execution_count": 2,
      "outputs": [
        {
          "output_type": "stream",
          "text": [
            "Go to this URL in a browser: https://accounts.google.com/o/oauth2/auth?client_id=947318989803-6bn6qk8qdgf4n4g3pfee6491hc0brc4i.apps.googleusercontent.com&redirect_uri=urn%3aietf%3awg%3aoauth%3a2.0%3aoob&response_type=code&scope=email%20https%3a%2f%2fwww.googleapis.com%2fauth%2fdocs.test%20https%3a%2f%2fwww.googleapis.com%2fauth%2fdrive%20https%3a%2f%2fwww.googleapis.com%2fauth%2fdrive.photos.readonly%20https%3a%2f%2fwww.googleapis.com%2fauth%2fpeopleapi.readonly\n",
            "\n",
            "Enter your authorization code:\n",
            "··········\n",
            "Mounted at /content/drive\n"
          ],
          "name": "stdout"
        }
      ]
    },
    {
      "cell_type": "markdown",
      "metadata": {
        "id": "E94chHIX3zH3",
        "colab_type": "text"
      },
      "source": [
        "# Reading Data"
      ]
    },
    {
      "cell_type": "code",
      "metadata": {
        "id": "5uRf8ApA3saf",
        "colab_type": "code",
        "colab": {}
      },
      "source": [
        "data = pd.read_csv(r\"/content/drive/My Drive/Colab Notebooks/NLP - Sem 6/Project/Datasets/original.csv\")"
      ],
      "execution_count": 0,
      "outputs": []
    },
    {
      "cell_type": "code",
      "metadata": {
        "id": "IJsrwJAJ36rH",
        "colab_type": "code",
        "outputId": "6e519be2-ce02-4fe9-e9af-1b386df5005d",
        "colab": {
          "base_uri": "https://localhost:8080/",
          "height": 200
        }
      },
      "source": [
        "data.head()"
      ],
      "execution_count": 4,
      "outputs": [
        {
          "output_type": "execute_result",
          "data": {
            "text/html": [
              "<div>\n",
              "<style scoped>\n",
              "    .dataframe tbody tr th:only-of-type {\n",
              "        vertical-align: middle;\n",
              "    }\n",
              "\n",
              "    .dataframe tbody tr th {\n",
              "        vertical-align: top;\n",
              "    }\n",
              "\n",
              "    .dataframe thead th {\n",
              "        text-align: right;\n",
              "    }\n",
              "</style>\n",
              "<table border=\"1\" class=\"dataframe\">\n",
              "  <thead>\n",
              "    <tr style=\"text-align: right;\">\n",
              "      <th></th>\n",
              "      <th>id</th>\n",
              "      <th>comment_text</th>\n",
              "      <th>toxic</th>\n",
              "      <th>severe_toxic</th>\n",
              "      <th>obscene</th>\n",
              "      <th>threat</th>\n",
              "      <th>insult</th>\n",
              "      <th>identity_hate</th>\n",
              "    </tr>\n",
              "  </thead>\n",
              "  <tbody>\n",
              "    <tr>\n",
              "      <th>0</th>\n",
              "      <td>0000997932d777bf</td>\n",
              "      <td>Explanation\\nWhy the edits made under my usern...</td>\n",
              "      <td>0</td>\n",
              "      <td>0</td>\n",
              "      <td>0</td>\n",
              "      <td>0</td>\n",
              "      <td>0</td>\n",
              "      <td>0</td>\n",
              "    </tr>\n",
              "    <tr>\n",
              "      <th>1</th>\n",
              "      <td>000103f0d9cfb60f</td>\n",
              "      <td>D'aww! He matches this background colour I'm s...</td>\n",
              "      <td>0</td>\n",
              "      <td>0</td>\n",
              "      <td>0</td>\n",
              "      <td>0</td>\n",
              "      <td>0</td>\n",
              "      <td>0</td>\n",
              "    </tr>\n",
              "    <tr>\n",
              "      <th>2</th>\n",
              "      <td>000113f07ec002fd</td>\n",
              "      <td>Hey man, I'm really not trying to edit war. It...</td>\n",
              "      <td>0</td>\n",
              "      <td>0</td>\n",
              "      <td>0</td>\n",
              "      <td>0</td>\n",
              "      <td>0</td>\n",
              "      <td>0</td>\n",
              "    </tr>\n",
              "    <tr>\n",
              "      <th>3</th>\n",
              "      <td>0001b41b1c6bb37e</td>\n",
              "      <td>\"\\nMore\\nI can't make any real suggestions on ...</td>\n",
              "      <td>0</td>\n",
              "      <td>0</td>\n",
              "      <td>0</td>\n",
              "      <td>0</td>\n",
              "      <td>0</td>\n",
              "      <td>0</td>\n",
              "    </tr>\n",
              "    <tr>\n",
              "      <th>4</th>\n",
              "      <td>0001d958c54c6e35</td>\n",
              "      <td>You, sir, are my hero. Any chance you remember...</td>\n",
              "      <td>0</td>\n",
              "      <td>0</td>\n",
              "      <td>0</td>\n",
              "      <td>0</td>\n",
              "      <td>0</td>\n",
              "      <td>0</td>\n",
              "    </tr>\n",
              "  </tbody>\n",
              "</table>\n",
              "</div>"
            ],
            "text/plain": [
              "                 id  ... identity_hate\n",
              "0  0000997932d777bf  ...             0\n",
              "1  000103f0d9cfb60f  ...             0\n",
              "2  000113f07ec002fd  ...             0\n",
              "3  0001b41b1c6bb37e  ...             0\n",
              "4  0001d958c54c6e35  ...             0\n",
              "\n",
              "[5 rows x 8 columns]"
            ]
          },
          "metadata": {
            "tags": []
          },
          "execution_count": 4
        }
      ]
    },
    {
      "cell_type": "code",
      "metadata": {
        "id": "S1vCqn5c37Z5",
        "colab_type": "code",
        "colab": {}
      },
      "source": [
        "data.drop(columns = \"id\", inplace = True)"
      ],
      "execution_count": 0,
      "outputs": []
    },
    {
      "cell_type": "code",
      "metadata": {
        "id": "XbGYlw804GJ1",
        "colab_type": "code",
        "colab": {}
      },
      "source": [
        "data.dropna(inplace = True)"
      ],
      "execution_count": 0,
      "outputs": []
    },
    {
      "cell_type": "code",
      "metadata": {
        "id": "h4cRf2993_by",
        "colab_type": "code",
        "outputId": "efbaa367-e9bf-4141-cd33-84e6759ac659",
        "colab": {
          "base_uri": "https://localhost:8080/",
          "height": 35
        }
      },
      "source": [
        "data.shape"
      ],
      "execution_count": 7,
      "outputs": [
        {
          "output_type": "execute_result",
          "data": {
            "text/plain": [
              "(159571, 7)"
            ]
          },
          "metadata": {
            "tags": []
          },
          "execution_count": 7
        }
      ]
    },
    {
      "cell_type": "markdown",
      "metadata": {
        "id": "RjuDIzkw4CTF",
        "colab_type": "text"
      },
      "source": [
        "# Data Pre Processing"
      ]
    },
    {
      "cell_type": "code",
      "metadata": {
        "id": "QWPlKXS44ARH",
        "colab_type": "code",
        "outputId": "93151cc8-8c95-4c32-a602-11641981e2bb",
        "colab": {
          "base_uri": "https://localhost:8080/",
          "height": 35
        }
      },
      "source": [
        "data[\"toxic\"].sum(),data[\"severe_toxic\"].sum(),data[\"obscene\"].sum(),data[\"threat\"].sum(),data[\"insult\"].sum(),data[\"identity_hate\"].sum()"
      ],
      "execution_count": 8,
      "outputs": [
        {
          "output_type": "execute_result",
          "data": {
            "text/plain": [
              "(15294, 1595, 8449, 478, 7877, 1405)"
            ]
          },
          "metadata": {
            "tags": []
          },
          "execution_count": 8
        }
      ]
    },
    {
      "cell_type": "code",
      "metadata": {
        "id": "2Lwcokdv4I8l",
        "colab_type": "code",
        "outputId": "c6176e3c-f142-4b4d-82ec-cc5d7e8cdcf3",
        "colab": {
          "base_uri": "https://localhost:8080/",
          "height": 70
        }
      },
      "source": [
        "print(\"Number of total sentences:  \", end = \"\")\n",
        "print(data.shape[0])\n",
        "print(\"Number of positive sentences:  \", end = \"\")\n",
        "print(data[(data.toxic == 0) & (data.insult == 0) & (data.severe_toxic == 0) & (data.obscene == 0) & (data.threat == 0) & (data.identity_hate == 0)].shape[0])\n",
        "print(\"Number of sentences with one or more labels:  \", end = \"\")\n",
        "print(data.shape[0] - data[(data.toxic == 0) & (data.insult == 0) & (data.severe_toxic == 0) & (data.obscene == 0) & (data.threat == 0) & (data.identity_hate == 0)].shape[0])"
      ],
      "execution_count": 9,
      "outputs": [
        {
          "output_type": "stream",
          "text": [
            "Number of total sentences:  159571\n",
            "Number of positive sentences:  143346\n",
            "Number of sentences with one or more labels:  16225\n"
          ],
          "name": "stdout"
        }
      ]
    },
    {
      "cell_type": "code",
      "metadata": {
        "id": "u4k4-8au4KYa",
        "colab_type": "code",
        "colab": {}
      },
      "source": [
        "def preprocessing(text):\n",
        "  \n",
        "  text = text.lower()\n",
        "  text = re.sub(r\"what's\", \"what is \", text)\n",
        "  text = re.sub(r\"\\'s\", \" \", text)\n",
        "  text = re.sub(r\"\\'ve\", \" have \", text)\n",
        "  text = re.sub(r\"can't\", \"cannot \", text)\n",
        "  text = re.sub(r\"n't\", \" not \", text)\n",
        "  text = re.sub(r\"i'm\", \"i am \", text)\n",
        "  text = re.sub(r\"\\'re\", \" are \", text)\n",
        "  text = re.sub(r\"\\'d\", \" would \", text)\n",
        "  text = re.sub(r\"\\'ll\", \" will \", text)\n",
        "  text = re.sub(r\"\\'scuse\", \" excuse \", text)\n",
        "  text = re.sub('\\W', ' ', text) # substitutes non word character with a space\n",
        "  text = re.sub('\\s+', ' ', text)\n",
        "  text = text.strip(' ')\n",
        "  text = re.sub(r\"[0-9]\",\" \",text) # substitutes numbers with a blank space\n",
        "\n",
        "  my_tokens = list() # Initialising a list of tokens that will be formed\n",
        "  stop_words= set(stopwords.words('english')) # Extracting english stopwords from nltk corpus\n",
        "\n",
        "  tokens = word_tokenize(text, preserve_line=False)\n",
        "\n",
        "  for token in tokens:\n",
        "\n",
        "    if (token not in stop_words):\n",
        "      my_tokens.append(token)\n",
        "  \n",
        "  final = ' '.join([str(elem) for elem in my_tokens]) # makes it an entire string\n",
        "\n",
        "  return final"
      ],
      "execution_count": 0,
      "outputs": []
    },
    {
      "cell_type": "code",
      "metadata": {
        "id": "m_M7XuS_4RgE",
        "colab_type": "code",
        "colab": {}
      },
      "source": [
        "data[\"comment_text\"] = data[\"comment_text\"].apply(preprocessing)"
      ],
      "execution_count": 0,
      "outputs": []
    },
    {
      "cell_type": "markdown",
      "metadata": {
        "id": "VFfHilop4X-L",
        "colab_type": "text"
      },
      "source": [
        "# Separating Positive and Negative Sentences"
      ]
    },
    {
      "cell_type": "code",
      "metadata": {
        "id": "1GAEL8CW4Uos",
        "colab_type": "code",
        "outputId": "61db3f5e-cb3e-4328-b559-59a9a180b78d",
        "colab": {
          "base_uri": "https://localhost:8080/",
          "height": 35
        }
      },
      "source": [
        "positive_sentences = data[(data.toxic == 0) & (data.insult == 0) & (data.severe_toxic == 0) & (data.obscene == 0) & (data.threat == 0) & (data.identity_hate == 0)]\n",
        "negative_sentences = data.drop((data[(data.toxic == 0) & (data.insult == 0) & (data.severe_toxic == 0) & (data.obscene == 0) & (data.threat == 0) & (data.identity_hate == 0)].index))\n",
        "positive_sentences.shape, negative_sentences.shape"
      ],
      "execution_count": 0,
      "outputs": [
        {
          "output_type": "execute_result",
          "data": {
            "text/plain": [
              "((143346, 7), (16225, 7))"
            ]
          },
          "metadata": {
            "tags": []
          },
          "execution_count": 12
        }
      ]
    },
    {
      "cell_type": "code",
      "metadata": {
        "id": "HpVRznk24b0m",
        "colab_type": "code",
        "colab": {}
      },
      "source": [
        "positive_sentences.reset_index(inplace = True)\n",
        "negative_sentences.reset_index(inplace = True)\n",
        "\n",
        "positive_sentences.drop(columns = \"index\", inplace = True)\n",
        "negative_sentences.drop(columns = \"index\", inplace = True)"
      ],
      "execution_count": 0,
      "outputs": []
    },
    {
      "cell_type": "markdown",
      "metadata": {
        "id": "gY8HUTn-4hJ1",
        "colab_type": "text"
      },
      "source": [
        "# Outlier Cleaning"
      ]
    },
    {
      "cell_type": "markdown",
      "metadata": {
        "id": "1jiExfYE4mHO",
        "colab_type": "text"
      },
      "source": [
        "### 1. Calculating length of each sentence"
      ]
    },
    {
      "cell_type": "code",
      "metadata": {
        "id": "BFBMhZK_4dQe",
        "colab_type": "code",
        "colab": {}
      },
      "source": [
        "def length_of_sentence(text):\n",
        "  return len(word_tokenize(text))"
      ],
      "execution_count": 0,
      "outputs": []
    },
    {
      "cell_type": "code",
      "metadata": {
        "id": "xY1e0GC44rFK",
        "colab_type": "code",
        "colab": {}
      },
      "source": [
        "positive_sentences[\"length\"] = positive_sentences[\"comment_text\"].apply(length_of_sentence)\n",
        "negative_sentences[\"length\"] = negative_sentences[\"comment_text\"].apply(length_of_sentence)"
      ],
      "execution_count": 0,
      "outputs": []
    },
    {
      "cell_type": "code",
      "metadata": {
        "id": "sEwz0ZZm4skx",
        "colab_type": "code",
        "outputId": "a02ee942-a515-4e6d-8de1-547845f82354",
        "colab": {
          "base_uri": "https://localhost:8080/",
          "height": 139
        }
      },
      "source": [
        "positive_sentences.head(3)"
      ],
      "execution_count": 0,
      "outputs": [
        {
          "output_type": "execute_result",
          "data": {
            "text/html": [
              "<div>\n",
              "<style scoped>\n",
              "    .dataframe tbody tr th:only-of-type {\n",
              "        vertical-align: middle;\n",
              "    }\n",
              "\n",
              "    .dataframe tbody tr th {\n",
              "        vertical-align: top;\n",
              "    }\n",
              "\n",
              "    .dataframe thead th {\n",
              "        text-align: right;\n",
              "    }\n",
              "</style>\n",
              "<table border=\"1\" class=\"dataframe\">\n",
              "  <thead>\n",
              "    <tr style=\"text-align: right;\">\n",
              "      <th></th>\n",
              "      <th>comment_text</th>\n",
              "      <th>toxic</th>\n",
              "      <th>severe_toxic</th>\n",
              "      <th>obscene</th>\n",
              "      <th>threat</th>\n",
              "      <th>insult</th>\n",
              "      <th>identity_hate</th>\n",
              "      <th>length</th>\n",
              "    </tr>\n",
              "  </thead>\n",
              "  <tbody>\n",
              "    <tr>\n",
              "      <th>0</th>\n",
              "      <td>explanation edits made username hardcore metal...</td>\n",
              "      <td>0</td>\n",
              "      <td>0</td>\n",
              "      <td>0</td>\n",
              "      <td>0</td>\n",
              "      <td>0</td>\n",
              "      <td>0</td>\n",
              "      <td>23</td>\n",
              "    </tr>\n",
              "    <tr>\n",
              "      <th>1</th>\n",
              "      <td>aww matches background colour seemingly stuck ...</td>\n",
              "      <td>0</td>\n",
              "      <td>0</td>\n",
              "      <td>0</td>\n",
              "      <td>0</td>\n",
              "      <td>0</td>\n",
              "      <td>0</td>\n",
              "      <td>10</td>\n",
              "    </tr>\n",
              "    <tr>\n",
              "      <th>2</th>\n",
              "      <td>hey man really trying edit war guy constantly ...</td>\n",
              "      <td>0</td>\n",
              "      <td>0</td>\n",
              "      <td>0</td>\n",
              "      <td>0</td>\n",
              "      <td>0</td>\n",
              "      <td>0</td>\n",
              "      <td>21</td>\n",
              "    </tr>\n",
              "  </tbody>\n",
              "</table>\n",
              "</div>"
            ],
            "text/plain": [
              "                                        comment_text  ...  length\n",
              "0  explanation edits made username hardcore metal...  ...      23\n",
              "1  aww matches background colour seemingly stuck ...  ...      10\n",
              "2  hey man really trying edit war guy constantly ...  ...      21\n",
              "\n",
              "[3 rows x 8 columns]"
            ]
          },
          "metadata": {
            "tags": []
          },
          "execution_count": 16
        }
      ]
    },
    {
      "cell_type": "code",
      "metadata": {
        "id": "g5vrSueo4uPn",
        "colab_type": "code",
        "outputId": "8c8b2239-a24f-4892-982e-e1dc586a8272",
        "colab": {
          "base_uri": "https://localhost:8080/",
          "height": 200
        }
      },
      "source": [
        "negative_sentences.head()"
      ],
      "execution_count": 0,
      "outputs": [
        {
          "output_type": "execute_result",
          "data": {
            "text/html": [
              "<div>\n",
              "<style scoped>\n",
              "    .dataframe tbody tr th:only-of-type {\n",
              "        vertical-align: middle;\n",
              "    }\n",
              "\n",
              "    .dataframe tbody tr th {\n",
              "        vertical-align: top;\n",
              "    }\n",
              "\n",
              "    .dataframe thead th {\n",
              "        text-align: right;\n",
              "    }\n",
              "</style>\n",
              "<table border=\"1\" class=\"dataframe\">\n",
              "  <thead>\n",
              "    <tr style=\"text-align: right;\">\n",
              "      <th></th>\n",
              "      <th>comment_text</th>\n",
              "      <th>toxic</th>\n",
              "      <th>severe_toxic</th>\n",
              "      <th>obscene</th>\n",
              "      <th>threat</th>\n",
              "      <th>insult</th>\n",
              "      <th>identity_hate</th>\n",
              "      <th>length</th>\n",
              "    </tr>\n",
              "  </thead>\n",
              "  <tbody>\n",
              "    <tr>\n",
              "      <th>0</th>\n",
              "      <td>cocksucker piss around work</td>\n",
              "      <td>1</td>\n",
              "      <td>1</td>\n",
              "      <td>1</td>\n",
              "      <td>0</td>\n",
              "      <td>1</td>\n",
              "      <td>0</td>\n",
              "      <td>4</td>\n",
              "    </tr>\n",
              "    <tr>\n",
              "      <th>1</th>\n",
              "      <td>hey talk exclusive group wp talibans good dest...</td>\n",
              "      <td>1</td>\n",
              "      <td>0</td>\n",
              "      <td>0</td>\n",
              "      <td>0</td>\n",
              "      <td>0</td>\n",
              "      <td>0</td>\n",
              "      <td>29</td>\n",
              "    </tr>\n",
              "    <tr>\n",
              "      <th>2</th>\n",
              "      <td>bye look come think comming back tosser</td>\n",
              "      <td>1</td>\n",
              "      <td>0</td>\n",
              "      <td>0</td>\n",
              "      <td>0</td>\n",
              "      <td>0</td>\n",
              "      <td>0</td>\n",
              "      <td>7</td>\n",
              "    </tr>\n",
              "    <tr>\n",
              "      <th>3</th>\n",
              "      <td>gay antisemmitian archangel white tiger meow g...</td>\n",
              "      <td>1</td>\n",
              "      <td>0</td>\n",
              "      <td>1</td>\n",
              "      <td>0</td>\n",
              "      <td>1</td>\n",
              "      <td>1</td>\n",
              "      <td>62</td>\n",
              "    </tr>\n",
              "    <tr>\n",
              "      <th>4</th>\n",
              "      <td>fuck filthy mother ass dry</td>\n",
              "      <td>1</td>\n",
              "      <td>0</td>\n",
              "      <td>1</td>\n",
              "      <td>0</td>\n",
              "      <td>1</td>\n",
              "      <td>0</td>\n",
              "      <td>5</td>\n",
              "    </tr>\n",
              "  </tbody>\n",
              "</table>\n",
              "</div>"
            ],
            "text/plain": [
              "                                        comment_text  ...  length\n",
              "0                        cocksucker piss around work  ...       4\n",
              "1  hey talk exclusive group wp talibans good dest...  ...      29\n",
              "2            bye look come think comming back tosser  ...       7\n",
              "3  gay antisemmitian archangel white tiger meow g...  ...      62\n",
              "4                         fuck filthy mother ass dry  ...       5\n",
              "\n",
              "[5 rows x 8 columns]"
            ]
          },
          "metadata": {
            "tags": []
          },
          "execution_count": 17
        }
      ]
    },
    {
      "cell_type": "markdown",
      "metadata": {
        "id": "DnpOm5qz4xVc",
        "colab_type": "text"
      },
      "source": [
        "### 2. Removing Null Values in both the Dataframes"
      ]
    },
    {
      "cell_type": "code",
      "metadata": {
        "id": "h1F0UIAo4vmz",
        "colab_type": "code",
        "outputId": "4257cf7d-3874-405a-8d29-0249965a8d02",
        "colab": {
          "base_uri": "https://localhost:8080/",
          "height": 35
        }
      },
      "source": [
        "positive_sentences[positive_sentences[\"length\"] == 0].shape[0], negative_sentences[negative_sentences[\"length\"] == 0].shape[0]"
      ],
      "execution_count": 0,
      "outputs": [
        {
          "output_type": "execute_result",
          "data": {
            "text/plain": [
              "(58, 0)"
            ]
          },
          "metadata": {
            "tags": []
          },
          "execution_count": 18
        }
      ]
    },
    {
      "cell_type": "code",
      "metadata": {
        "id": "KD_96Gr241_5",
        "colab_type": "code",
        "outputId": "f89840bf-09dd-4132-a42e-085aafb4a450",
        "colab": {
          "base_uri": "https://localhost:8080/",
          "height": 177
        }
      },
      "source": [
        "positive_sentences[positive_sentences[\"length\"] == 0].index"
      ],
      "execution_count": 0,
      "outputs": [
        {
          "output_type": "execute_result",
          "data": {
            "text/plain": [
              "Int64Index([  1877,   2150,   3564,   4003,   5624,   7921,   8412,  11166,\n",
              "             15561,  20719,  21094,  22964,  23069,  23692,  27837,  28700,\n",
              "             34332,  37330,  38795,  42196,  47049,  48248,  52580,  55428,\n",
              "             57706,  62978,  64371,  67070,  71580,  73801,  74208,  76557,\n",
              "             84284,  86943,  90524,  91320,  93392,  98404,  99238, 102553,\n",
              "            102958, 107719, 111784, 111930, 113026, 114023, 115499, 115926,\n",
              "            126199, 128349, 128558, 131301, 132905, 133756, 135994, 137270,\n",
              "            137726, 142848],\n",
              "           dtype='int64')"
            ]
          },
          "metadata": {
            "tags": []
          },
          "execution_count": 19
        }
      ]
    },
    {
      "cell_type": "code",
      "metadata": {
        "id": "y_ftidzo43yq",
        "colab_type": "code",
        "colab": {}
      },
      "source": [
        "positive_sentences.drop((positive_sentences[positive_sentences[\"length\"] == 0].index), inplace = True)"
      ],
      "execution_count": 0,
      "outputs": []
    },
    {
      "cell_type": "code",
      "metadata": {
        "id": "U-XLTR8v45aL",
        "colab_type": "code",
        "colab": {}
      },
      "source": [
        "positive_sentences.reset_index(inplace = True)\n",
        "positive_sentences.drop(columns = \"index\", inplace = True)"
      ],
      "execution_count": 0,
      "outputs": []
    },
    {
      "cell_type": "code",
      "metadata": {
        "id": "me6pT7Vk47rg",
        "colab_type": "code",
        "outputId": "7e228927-44ce-45dd-b07f-fcf9d0063146",
        "colab": {
          "base_uri": "https://localhost:8080/",
          "height": 35
        }
      },
      "source": [
        "positive_sentences[positive_sentences[\"length\"] == 0].shape[0], negative_sentences[negative_sentences[\"length\"] == 0].shape[0]"
      ],
      "execution_count": 0,
      "outputs": [
        {
          "output_type": "execute_result",
          "data": {
            "text/plain": [
              "(0, 0)"
            ]
          },
          "metadata": {
            "tags": []
          },
          "execution_count": 22
        }
      ]
    },
    {
      "cell_type": "markdown",
      "metadata": {
        "id": "8ETZrBLo5GBj",
        "colab_type": "text"
      },
      "source": [
        "### 3. Dropping rows where length of each sentence is beyond the range 25% - 75% percentile"
      ]
    },
    {
      "cell_type": "markdown",
      "metadata": {
        "id": "xMnjpEhk5NjP",
        "colab_type": "text"
      },
      "source": [
        "#### 3a. For \"positive_sentences\""
      ]
    },
    {
      "cell_type": "code",
      "metadata": {
        "id": "KgPu7QYA49Ig",
        "colab_type": "code",
        "outputId": "7ff42a2e-6dd7-4427-f9a7-13065f2538ff",
        "colab": {
          "base_uri": "https://localhost:8080/",
          "height": 177
        }
      },
      "source": [
        "positive_sentences[\"length\"].describe()"
      ],
      "execution_count": 0,
      "outputs": [
        {
          "output_type": "execute_result",
          "data": {
            "text/plain": [
              "count    143288.000000\n",
              "mean         35.405009\n",
              "std          52.178395\n",
              "min           1.000000\n",
              "25%           9.000000\n",
              "50%          19.000000\n",
              "75%          39.000000\n",
              "max        1250.000000\n",
              "Name: length, dtype: float64"
            ]
          },
          "metadata": {
            "tags": []
          },
          "execution_count": 23
        }
      ]
    },
    {
      "cell_type": "code",
      "metadata": {
        "id": "nX_IiJ4K5ST3",
        "colab_type": "code",
        "outputId": "303a0220-0e4e-4ae5-9d37-8b6a9323b5d4",
        "colab": {
          "base_uri": "https://localhost:8080/",
          "height": 35
        }
      },
      "source": [
        "positive_sentences[\"length\"].describe()[4], positive_sentences[\"length\"].describe()[6]"
      ],
      "execution_count": 0,
      "outputs": [
        {
          "output_type": "execute_result",
          "data": {
            "text/plain": [
              "(9.0, 39.0)"
            ]
          },
          "metadata": {
            "tags": []
          },
          "execution_count": 24
        }
      ]
    },
    {
      "cell_type": "code",
      "metadata": {
        "id": "LwL_udzC5Tu9",
        "colab_type": "code",
        "outputId": "06ceb9df-1b37-4dd4-f8c8-f7748e48e7a6",
        "colab": {
          "base_uri": "https://localhost:8080/",
          "height": 35
        }
      },
      "source": [
        "positive_sentences[(positive_sentences.length >= positive_sentences[\"length\"].describe()[4]) &\n",
        "                   (positive_sentences.length <= positive_sentences[\"length\"].describe()[6])].shape"
      ],
      "execution_count": 0,
      "outputs": [
        {
          "output_type": "execute_result",
          "data": {
            "text/plain": [
              "(74136, 8)"
            ]
          },
          "metadata": {
            "tags": []
          },
          "execution_count": 25
        }
      ]
    },
    {
      "cell_type": "code",
      "metadata": {
        "id": "tTcAWyU05VS9",
        "colab_type": "code",
        "colab": {}
      },
      "source": [
        "positive_sentences = positive_sentences[(positive_sentences.length >= positive_sentences[\"length\"].describe()[4]) &\n",
        "                   (positive_sentences.length <= positive_sentences[\"length\"].describe()[6])]"
      ],
      "execution_count": 0,
      "outputs": []
    },
    {
      "cell_type": "code",
      "metadata": {
        "id": "SQ9HntT_5Wf5",
        "colab_type": "code",
        "outputId": "d3e2ed96-0895-437a-c719-313498efbc30",
        "colab": {
          "base_uri": "https://localhost:8080/",
          "height": 177
        }
      },
      "source": [
        "positive_sentences[\"length\"].describe()"
      ],
      "execution_count": 0,
      "outputs": [
        {
          "output_type": "execute_result",
          "data": {
            "text/plain": [
              "count    74136.000000\n",
              "mean        20.198689\n",
              "std          8.460624\n",
              "min          9.000000\n",
              "25%         13.000000\n",
              "50%         19.000000\n",
              "75%         26.000000\n",
              "max         39.000000\n",
              "Name: length, dtype: float64"
            ]
          },
          "metadata": {
            "tags": []
          },
          "execution_count": 27
        }
      ]
    },
    {
      "cell_type": "code",
      "metadata": {
        "id": "iWTNFUtx5X2n",
        "colab_type": "code",
        "colab": {}
      },
      "source": [
        "positive_sentences.drop(columns = \"length\", inplace = True)"
      ],
      "execution_count": 0,
      "outputs": []
    },
    {
      "cell_type": "code",
      "metadata": {
        "id": "SIm56Z4G5ZeT",
        "colab_type": "code",
        "colab": {}
      },
      "source": [
        "positive_sentences.reset_index(inplace = True)\n",
        "positive_sentences.drop(columns = \"index\", inplace = True)"
      ],
      "execution_count": 0,
      "outputs": []
    },
    {
      "cell_type": "markdown",
      "metadata": {
        "id": "PVgjAsgN5bnU",
        "colab_type": "text"
      },
      "source": [
        "#### 3b. For \"negative_sentences\""
      ]
    },
    {
      "cell_type": "code",
      "metadata": {
        "id": "xLxBKPxv5a2F",
        "colab_type": "code",
        "outputId": "0c9943f5-76a2-4e6a-84ef-52a91fd6637e",
        "colab": {
          "base_uri": "https://localhost:8080/",
          "height": 177
        }
      },
      "source": [
        "negative_sentences[\"length\"].describe()"
      ],
      "execution_count": 0,
      "outputs": [
        {
          "output_type": "execute_result",
          "data": {
            "text/plain": [
              "count    16225.000000\n",
              "mean        28.746872\n",
              "std         68.379872\n",
              "min          1.000000\n",
              "25%          6.000000\n",
              "50%         12.000000\n",
              "75%         25.000000\n",
              "max       1250.000000\n",
              "Name: length, dtype: float64"
            ]
          },
          "metadata": {
            "tags": []
          },
          "execution_count": 30
        }
      ]
    },
    {
      "cell_type": "code",
      "metadata": {
        "id": "6XxFFMcb5gD4",
        "colab_type": "code",
        "colab": {}
      },
      "source": [
        "negative_sentences = negative_sentences[(negative_sentences.length >= negative_sentences[\"length\"].describe()[4]) &\n",
        "                   (negative_sentences.length <= negative_sentences[\"length\"].describe()[6])]"
      ],
      "execution_count": 0,
      "outputs": []
    },
    {
      "cell_type": "code",
      "metadata": {
        "id": "AWIQsKKB5hf_",
        "colab_type": "code",
        "outputId": "00a7ce30-fbd5-47bd-b14e-be944ba2c85c",
        "colab": {
          "base_uri": "https://localhost:8080/",
          "height": 177
        }
      },
      "source": [
        "negative_sentences[\"length\"].describe()"
      ],
      "execution_count": 0,
      "outputs": [
        {
          "output_type": "execute_result",
          "data": {
            "text/plain": [
              "count    8688.000000\n",
              "mean       12.788329\n",
              "std         5.484364\n",
              "min         6.000000\n",
              "25%         8.000000\n",
              "50%        12.000000\n",
              "75%        17.000000\n",
              "max        25.000000\n",
              "Name: length, dtype: float64"
            ]
          },
          "metadata": {
            "tags": []
          },
          "execution_count": 32
        }
      ]
    },
    {
      "cell_type": "code",
      "metadata": {
        "id": "lFX_pRK-5izG",
        "colab_type": "code",
        "colab": {}
      },
      "source": [
        "negative_sentences.drop(columns = \"length\", inplace = True)"
      ],
      "execution_count": 0,
      "outputs": []
    },
    {
      "cell_type": "code",
      "metadata": {
        "id": "SgACZScB5kS1",
        "colab_type": "code",
        "colab": {}
      },
      "source": [
        "negative_sentences.reset_index(inplace = True)\n",
        "negative_sentences.drop(columns = \"index\", inplace = True)"
      ],
      "execution_count": 0,
      "outputs": []
    },
    {
      "cell_type": "code",
      "metadata": {
        "id": "aLQ2ZY-75lmn",
        "colab_type": "code",
        "outputId": "ab3e8cca-6833-4e69-c69c-5a538f6551f3",
        "colab": {
          "base_uri": "https://localhost:8080/",
          "height": 124
        }
      },
      "source": [
        "print(\"TOXIC:  \", end = \"\")\n",
        "print(negative_sentences[\"toxic\"].sum())\n",
        "\n",
        "print(\"SEVERE_TOXIC:  \", end = \"\")\n",
        "print(negative_sentences[\"severe_toxic\"].sum())\n",
        "\n",
        "print(\"INSULT:  \", end = \"\")\n",
        "print(negative_sentences[\"insult\"].sum())\n",
        "\n",
        "print(\"THREAT:  \", end = \"\")\n",
        "print(negative_sentences[\"threat\"].sum())\n",
        "\n",
        "print(\"IDENTITY_HATE:  \", end = \"\")\n",
        "print(negative_sentences[\"identity_hate\"].sum())\n",
        "\n",
        "print(\"OBSCENE:  \", end = \"\")\n",
        "print(negative_sentences[\"obscene\"].sum())"
      ],
      "execution_count": 0,
      "outputs": [
        {
          "output_type": "stream",
          "text": [
            "TOXIC:  8266\n",
            "SEVERE_TOXIC:  848\n",
            "INSULT:  4319\n",
            "THREAT:  285\n",
            "IDENTITY_HATE:  780\n",
            "OBSCENE:  4487\n"
          ],
          "name": "stdout"
        }
      ]
    },
    {
      "cell_type": "markdown",
      "metadata": {
        "id": "DpH5riow5pWZ",
        "colab_type": "text"
      },
      "source": [
        "From the above data it is clear that, it will be difficult to identify the following labels:\n",
        "\n",
        "1. Threat\n",
        "2. Identity_Hate\n",
        "3. Severe_Toxic"
      ]
    },
    {
      "cell_type": "markdown",
      "metadata": {
        "id": "moUou2Q-5tSW",
        "colab_type": "text"
      },
      "source": [
        "# Adding 2 more columns: \"positive\" and \"negative\" which will be binary labels to classify a sentence into these two categories"
      ]
    },
    {
      "cell_type": "code",
      "metadata": {
        "id": "PRpcSJuq5mzd",
        "colab_type": "code",
        "colab": {}
      },
      "source": [
        "labels = [\"positive\", \"negative\"]\n",
        "d = dict.fromkeys(labels, 0)"
      ],
      "execution_count": 0,
      "outputs": []
    },
    {
      "cell_type": "code",
      "metadata": {
        "id": "EV7ZtVIp53y-",
        "colab_type": "code",
        "colab": {}
      },
      "source": [
        "positive_sentences = positive_sentences.assign(**d)\n",
        "negative_sentences = negative_sentences.assign(**d)"
      ],
      "execution_count": 0,
      "outputs": []
    },
    {
      "cell_type": "code",
      "metadata": {
        "id": "huKm8slg55f3",
        "colab_type": "code",
        "colab": {}
      },
      "source": [
        "positive_sentences.positive = positive_sentences.positive.replace(0,1)"
      ],
      "execution_count": 0,
      "outputs": []
    },
    {
      "cell_type": "code",
      "metadata": {
        "id": "xjxYU_rf5626",
        "colab_type": "code",
        "colab": {}
      },
      "source": [
        "negative_sentences.negative = negative_sentences.negative.replace(0,1)"
      ],
      "execution_count": 0,
      "outputs": []
    },
    {
      "cell_type": "code",
      "metadata": {
        "id": "n3ojowmH58VH",
        "colab_type": "code",
        "outputId": "89db99af-d93f-4956-db77-486c5f3371e5",
        "colab": {
          "base_uri": "https://localhost:8080/",
          "height": 200
        }
      },
      "source": [
        "positive_sentences.head()"
      ],
      "execution_count": 0,
      "outputs": [
        {
          "output_type": "execute_result",
          "data": {
            "text/html": [
              "<div>\n",
              "<style scoped>\n",
              "    .dataframe tbody tr th:only-of-type {\n",
              "        vertical-align: middle;\n",
              "    }\n",
              "\n",
              "    .dataframe tbody tr th {\n",
              "        vertical-align: top;\n",
              "    }\n",
              "\n",
              "    .dataframe thead th {\n",
              "        text-align: right;\n",
              "    }\n",
              "</style>\n",
              "<table border=\"1\" class=\"dataframe\">\n",
              "  <thead>\n",
              "    <tr style=\"text-align: right;\">\n",
              "      <th></th>\n",
              "      <th>comment_text</th>\n",
              "      <th>toxic</th>\n",
              "      <th>severe_toxic</th>\n",
              "      <th>obscene</th>\n",
              "      <th>threat</th>\n",
              "      <th>insult</th>\n",
              "      <th>identity_hate</th>\n",
              "      <th>positive</th>\n",
              "      <th>negative</th>\n",
              "    </tr>\n",
              "  </thead>\n",
              "  <tbody>\n",
              "    <tr>\n",
              "      <th>0</th>\n",
              "      <td>explanation edits made username hardcore metal...</td>\n",
              "      <td>0</td>\n",
              "      <td>0</td>\n",
              "      <td>0</td>\n",
              "      <td>0</td>\n",
              "      <td>0</td>\n",
              "      <td>0</td>\n",
              "      <td>1</td>\n",
              "      <td>0</td>\n",
              "    </tr>\n",
              "    <tr>\n",
              "      <th>1</th>\n",
              "      <td>aww matches background colour seemingly stuck ...</td>\n",
              "      <td>0</td>\n",
              "      <td>0</td>\n",
              "      <td>0</td>\n",
              "      <td>0</td>\n",
              "      <td>0</td>\n",
              "      <td>0</td>\n",
              "      <td>1</td>\n",
              "      <td>0</td>\n",
              "    </tr>\n",
              "    <tr>\n",
              "      <th>2</th>\n",
              "      <td>hey man really trying edit war guy constantly ...</td>\n",
              "      <td>0</td>\n",
              "      <td>0</td>\n",
              "      <td>0</td>\n",
              "      <td>0</td>\n",
              "      <td>0</td>\n",
              "      <td>0</td>\n",
              "      <td>1</td>\n",
              "      <td>0</td>\n",
              "    </tr>\n",
              "    <tr>\n",
              "      <th>3</th>\n",
              "      <td>sorry word nonsense offensive anyway intending...</td>\n",
              "      <td>0</td>\n",
              "      <td>0</td>\n",
              "      <td>0</td>\n",
              "      <td>0</td>\n",
              "      <td>0</td>\n",
              "      <td>0</td>\n",
              "      <td>1</td>\n",
              "      <td>0</td>\n",
              "    </tr>\n",
              "    <tr>\n",
              "      <th>4</th>\n",
              "      <td>oh girl started arguments stuck nose belong be...</td>\n",
              "      <td>0</td>\n",
              "      <td>0</td>\n",
              "      <td>0</td>\n",
              "      <td>0</td>\n",
              "      <td>0</td>\n",
              "      <td>0</td>\n",
              "      <td>1</td>\n",
              "      <td>0</td>\n",
              "    </tr>\n",
              "  </tbody>\n",
              "</table>\n",
              "</div>"
            ],
            "text/plain": [
              "                                        comment_text  toxic  ...  positive  negative\n",
              "0  explanation edits made username hardcore metal...      0  ...         1         0\n",
              "1  aww matches background colour seemingly stuck ...      0  ...         1         0\n",
              "2  hey man really trying edit war guy constantly ...      0  ...         1         0\n",
              "3  sorry word nonsense offensive anyway intending...      0  ...         1         0\n",
              "4  oh girl started arguments stuck nose belong be...      0  ...         1         0\n",
              "\n",
              "[5 rows x 9 columns]"
            ]
          },
          "metadata": {
            "tags": []
          },
          "execution_count": 40
        }
      ]
    },
    {
      "cell_type": "code",
      "metadata": {
        "id": "Yj3bRoMc59rP",
        "colab_type": "code",
        "outputId": "71ae2c4a-d187-49b6-d44f-0107f060e492",
        "colab": {
          "base_uri": "https://localhost:8080/",
          "height": 200
        }
      },
      "source": [
        "negative_sentences.head()"
      ],
      "execution_count": 0,
      "outputs": [
        {
          "output_type": "execute_result",
          "data": {
            "text/html": [
              "<div>\n",
              "<style scoped>\n",
              "    .dataframe tbody tr th:only-of-type {\n",
              "        vertical-align: middle;\n",
              "    }\n",
              "\n",
              "    .dataframe tbody tr th {\n",
              "        vertical-align: top;\n",
              "    }\n",
              "\n",
              "    .dataframe thead th {\n",
              "        text-align: right;\n",
              "    }\n",
              "</style>\n",
              "<table border=\"1\" class=\"dataframe\">\n",
              "  <thead>\n",
              "    <tr style=\"text-align: right;\">\n",
              "      <th></th>\n",
              "      <th>comment_text</th>\n",
              "      <th>toxic</th>\n",
              "      <th>severe_toxic</th>\n",
              "      <th>obscene</th>\n",
              "      <th>threat</th>\n",
              "      <th>insult</th>\n",
              "      <th>identity_hate</th>\n",
              "      <th>positive</th>\n",
              "      <th>negative</th>\n",
              "    </tr>\n",
              "  </thead>\n",
              "  <tbody>\n",
              "    <tr>\n",
              "      <th>0</th>\n",
              "      <td>bye look come think comming back tosser</td>\n",
              "      <td>1</td>\n",
              "      <td>0</td>\n",
              "      <td>0</td>\n",
              "      <td>0</td>\n",
              "      <td>0</td>\n",
              "      <td>0</td>\n",
              "      <td>0</td>\n",
              "      <td>1</td>\n",
              "    </tr>\n",
              "    <tr>\n",
              "      <th>1</th>\n",
              "      <td>sorry sorry screwed around someones talk page ...</td>\n",
              "      <td>1</td>\n",
              "      <td>0</td>\n",
              "      <td>0</td>\n",
              "      <td>0</td>\n",
              "      <td>0</td>\n",
              "      <td>0</td>\n",
              "      <td>0</td>\n",
              "      <td>1</td>\n",
              "    </tr>\n",
              "    <tr>\n",
              "      <th>2</th>\n",
              "      <td>get fucked get fuckeeed got drink cant put get...</td>\n",
              "      <td>1</td>\n",
              "      <td>0</td>\n",
              "      <td>1</td>\n",
              "      <td>0</td>\n",
              "      <td>0</td>\n",
              "      <td>0</td>\n",
              "      <td>0</td>\n",
              "      <td>1</td>\n",
              "    </tr>\n",
              "    <tr>\n",
              "      <th>3</th>\n",
              "      <td>stupid peace shit stop deleting stuff asshole ...</td>\n",
              "      <td>1</td>\n",
              "      <td>1</td>\n",
              "      <td>1</td>\n",
              "      <td>0</td>\n",
              "      <td>1</td>\n",
              "      <td>0</td>\n",
              "      <td>0</td>\n",
              "      <td>1</td>\n",
              "    </tr>\n",
              "    <tr>\n",
              "      <th>4</th>\n",
              "      <td>tony sidaway obviously fistfuckee loves arm ass</td>\n",
              "      <td>1</td>\n",
              "      <td>0</td>\n",
              "      <td>1</td>\n",
              "      <td>0</td>\n",
              "      <td>1</td>\n",
              "      <td>0</td>\n",
              "      <td>0</td>\n",
              "      <td>1</td>\n",
              "    </tr>\n",
              "  </tbody>\n",
              "</table>\n",
              "</div>"
            ],
            "text/plain": [
              "                                        comment_text  toxic  ...  positive  negative\n",
              "0            bye look come think comming back tosser      1  ...         0         1\n",
              "1  sorry sorry screwed around someones talk page ...      1  ...         0         1\n",
              "2  get fucked get fuckeeed got drink cant put get...      1  ...         0         1\n",
              "3  stupid peace shit stop deleting stuff asshole ...      1  ...         0         1\n",
              "4    tony sidaway obviously fistfuckee loves arm ass      1  ...         0         1\n",
              "\n",
              "[5 rows x 9 columns]"
            ]
          },
          "metadata": {
            "tags": []
          },
          "execution_count": 41
        }
      ]
    },
    {
      "cell_type": "markdown",
      "metadata": {
        "id": "b6NdLITZ6CQq",
        "colab_type": "text"
      },
      "source": [
        "# Saving these DataFrames for direct use in future"
      ]
    },
    {
      "cell_type": "code",
      "metadata": {
        "id": "NVWf5zlC5_PA",
        "colab_type": "code",
        "colab": {}
      },
      "source": [
        "positive_sentences.to_csv(r\"/content/drive/My Drive/Colab Notebooks/NLP - Sem 6/Project/Datasets/positive_sentences.csv\")\n",
        "negative_sentences.to_csv(r\"/content/drive/My Drive/Colab Notebooks/NLP - Sem 6/Project/Datasets/negative_sentences.csv\")"
      ],
      "execution_count": 0,
      "outputs": []
    },
    {
      "cell_type": "markdown",
      "metadata": {
        "id": "oNbxk8JI6MY0",
        "colab_type": "text"
      },
      "source": [
        "# ------------------ THE END ------------------"
      ]
    }
  ]
}