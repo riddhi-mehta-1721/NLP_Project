{
  "nbformat": 4,
  "nbformat_minor": 0,
  "metadata": {
    "colab": {
      "name": "Book_3.ipynb",
      "provenance": [],
      "collapsed_sections": [],
      "authorship_tag": "ABX9TyParp6/v9tQ4k2r8a+10Sz8",
      "include_colab_link": true
    },
    "kernelspec": {
      "name": "python3",
      "display_name": "Python 3"
    },
    "accelerator": "GPU"
  },
  "cells": [
    {
      "cell_type": "markdown",
      "metadata": {
        "id": "view-in-github",
        "colab_type": "text"
      },
      "source": [
        "<a href=\"https://colab.research.google.com/github/riddhi-mehta-1721/NLP_Project/blob/master/Book_3.ipynb\" target=\"_parent\"><img src=\"https://colab.research.google.com/assets/colab-badge.svg\" alt=\"Open In Colab\"/></a>"
      ]
    },
    {
      "cell_type": "markdown",
      "metadata": {
        "id": "72blySL76NPx",
        "colab_type": "text"
      },
      "source": [
        "# NLP PROJECT\n",
        "\n",
        "## RIDDHI MEHTA - J030\n",
        "## HUSAIN GHADIALI - J056"
      ]
    },
    {
      "cell_type": "markdown",
      "metadata": {
        "id": "7vueHIT28GKj",
        "colab_type": "text"
      },
      "source": [
        "# Importing Libraries"
      ]
    },
    {
      "cell_type": "code",
      "metadata": {
        "id": "n-YiGbB374CY",
        "colab_type": "code",
        "outputId": "7fdc9797-ad87-4b0d-8e4d-ab4d73e8cb14",
        "colab": {
          "base_uri": "https://localhost:8080/",
          "height": 124
        }
      },
      "source": [
        "import pandas as pd\n",
        "import numpy as np\n",
        "\n",
        "import re\n",
        "import pickle\n",
        "import io\n",
        "import json\n",
        "\n",
        "import seaborn as sns\n",
        "import matplotlib.pyplot as plt\n",
        "\n",
        "import pydotplus\n",
        "import pydot\n",
        "\n",
        "import nltk\n",
        "from nltk import word_tokenize\n",
        "from nltk.corpus import stopwords\n",
        "from nltk.tokenize import word_tokenize\n",
        "\n",
        "from sklearn.feature_extraction.text import TfidfVectorizer\n",
        "from sklearn.ensemble import RandomForestClassifier\n",
        "from sklearn.multioutput import MultiOutputClassifier\n",
        "from sklearn.model_selection import train_test_split\n",
        "from sklearn.naive_bayes import MultinomialNB\n",
        "from sklearn.metrics import accuracy_score, f1_score, classification_report\n",
        "from sklearn.multiclass import OneVsRestClassifier\n",
        "from sklearn.preprocessing import StandardScaler\n",
        "from sklearn.pipeline import Pipeline\n",
        "\n",
        "\n",
        "from tensorflow.python.keras.layers import Dense, Embedding, Input, LSTM, Bidirectional, GlobalMaxPool1D, Dropout, Conv1D, MaxPooling1D\n",
        "from tensorflow.python.keras import Sequential\n",
        "from tensorflow.python.keras.models import Model, load_model\n",
        "from tensorflow.python.keras.callbacks import EarlyStopping, ModelCheckpoint, Callback\n",
        "\n",
        "import keras\n",
        "from keras.preprocessing.text import Tokenizer\n",
        "from keras.preprocessing.sequence import pad_sequences\n",
        "# from keras.callbacks import Callback\n",
        "# from keras.models import Model\n",
        "# from keras.layers import Dense, Embedding, Input, LSTM, Bidirectional, GlobalMaxPool1D, Dropout\n",
        "# from keras.callbacks import EarlyStopping, ModelCheckpoint\n",
        "from keras.utils import plot_model  \n",
        "from keras.utils.vis_utils import model_to_dot\n",
        "\n",
        "nltk.download('punkt')\n",
        "nltk.download('wordnet')\n",
        "nltk.download('stopwords')\n",
        "\n",
        "import warnings\n",
        "warnings.filterwarnings(\"ignore\")\n",
        "\n",
        "import random"
      ],
      "execution_count": 56,
      "outputs": [
        {
          "output_type": "stream",
          "text": [
            "[nltk_data] Downloading package punkt to /root/nltk_data...\n",
            "[nltk_data]   Package punkt is already up-to-date!\n",
            "[nltk_data] Downloading package wordnet to /root/nltk_data...\n",
            "[nltk_data]   Package wordnet is already up-to-date!\n",
            "[nltk_data] Downloading package stopwords to /root/nltk_data...\n",
            "[nltk_data]   Package stopwords is already up-to-date!\n"
          ],
          "name": "stdout"
        }
      ]
    },
    {
      "cell_type": "markdown",
      "metadata": {
        "id": "-11iFoDN8J8E",
        "colab_type": "text"
      },
      "source": [
        "# Mounting Drive"
      ]
    },
    {
      "cell_type": "code",
      "metadata": {
        "id": "Bf5z-xDp8JRM",
        "colab_type": "code",
        "outputId": "fccad572-22c3-43af-e9fd-5bc0d413fc5f",
        "colab": {
          "base_uri": "https://localhost:8080/",
          "height": 126
        }
      },
      "source": [
        "from google.colab import drive\n",
        "drive.mount('/content/drive')"
      ],
      "execution_count": 2,
      "outputs": [
        {
          "output_type": "stream",
          "text": [
            "Go to this URL in a browser: https://accounts.google.com/o/oauth2/auth?client_id=947318989803-6bn6qk8qdgf4n4g3pfee6491hc0brc4i.apps.googleusercontent.com&redirect_uri=urn%3aietf%3awg%3aoauth%3a2.0%3aoob&response_type=code&scope=email%20https%3a%2f%2fwww.googleapis.com%2fauth%2fdocs.test%20https%3a%2f%2fwww.googleapis.com%2fauth%2fdrive%20https%3a%2f%2fwww.googleapis.com%2fauth%2fdrive.photos.readonly%20https%3a%2f%2fwww.googleapis.com%2fauth%2fpeopleapi.readonly\n",
            "\n",
            "Enter your authorization code:\n",
            "··········\n",
            "Mounted at /content/drive\n"
          ],
          "name": "stdout"
        }
      ]
    },
    {
      "cell_type": "markdown",
      "metadata": {
        "id": "Jmg273MO8TMJ",
        "colab_type": "text"
      },
      "source": [
        "# Reading DataFrames: \"train\" & \"test\""
      ]
    },
    {
      "cell_type": "code",
      "metadata": {
        "id": "NS-Uw4xC8Mnw",
        "colab_type": "code",
        "colab": {}
      },
      "source": [
        "train = pd.read_csv(r\"/content/drive/My Drive/Colab Notebooks/NLP - Sem 6/Project/Datasets/train.csv\")\n",
        "test = pd.read_csv(r\"/content/drive/My Drive/Colab Notebooks/NLP - Sem 6/Project/Datasets/test.csv\")"
      ],
      "execution_count": 0,
      "outputs": []
    },
    {
      "cell_type": "code",
      "metadata": {
        "id": "0jHXWxIt8fne",
        "colab_type": "code",
        "colab": {}
      },
      "source": [
        "train.drop(columns = \"Unnamed: 0\", inplace = True)\n",
        "test.drop(columns = \"Unnamed: 0\", inplace = True)"
      ],
      "execution_count": 0,
      "outputs": []
    },
    {
      "cell_type": "code",
      "metadata": {
        "id": "5KQv6UlX8j3A",
        "colab_type": "code",
        "outputId": "3d20398a-fe98-4ed9-cffc-d3acde02f94e",
        "colab": {
          "base_uri": "https://localhost:8080/",
          "height": 283
        }
      },
      "source": [
        "lens = train.comment_text.str.len()\n",
        "lens.hist(bins = np.arange(0,1000,10))"
      ],
      "execution_count": 5,
      "outputs": [
        {
          "output_type": "execute_result",
          "data": {
            "text/plain": [
              "<matplotlib.axes._subplots.AxesSubplot at 0x7f649b04e128>"
            ]
          },
          "metadata": {
            "tags": []
          },
          "execution_count": 5
        },
        {
          "output_type": "display_data",
          "data": {
            "image/png": "[encoded data removed]",
            "text/plain": [
              "<Figure size 432x288 with 1 Axes>"
            ]
          },
          "metadata": {
            "tags": []
          }
        }
      ]
    },
    {
      "cell_type": "markdown",
      "metadata": {
        "id": "RpaopTBt8pJN",
        "colab_type": "text"
      },
      "source": [
        "# Creating X_train, X_test, Y_train, Y_test"
      ]
    },
    {
      "cell_type": "code",
      "metadata": {
        "id": "_v1FNmIk8lw1",
        "colab_type": "code",
        "colab": {}
      },
      "source": [
        "X_train = train[\"comment_text\"]\n",
        "X_test = test[\"comment_text\"]"
      ],
      "execution_count": 0,
      "outputs": []
    },
    {
      "cell_type": "code",
      "metadata": {
        "id": "eWm28Zli8uKj",
        "colab_type": "code",
        "colab": {}
      },
      "source": [
        "Y_train = train.loc[:,(\"positive\",\"negative\")]\n",
        "Y_test = test.loc[:,(\"positive\",\"negative\")]"
      ],
      "execution_count": 0,
      "outputs": []
    },
    {
      "cell_type": "code",
      "metadata": {
        "id": "rYg0LDVm8wIf",
        "colab_type": "code",
        "colab": {}
      },
      "source": [
        "Y_train = train.iloc[:,1:-2]\n",
        "Y_test = test.iloc[:,1:-2]"
      ],
      "execution_count": 0,
      "outputs": []
    },
    {
      "cell_type": "code",
      "metadata": {
        "id": "ufC31RqiWIIP",
        "colab_type": "code",
        "colab": {}
      },
      "source": [
        "# Y_train = np.asarray(Y_train).astype('float32').reshape((-1,1))\n",
        "# Y_test = np.asarray(Y_test).astype('float32').reshape((-1,1))\n",
        "\n",
        "# ## Use this code only when there is an error of logit and labels of not being the same dimensions..."
      ],
      "execution_count": 0,
      "outputs": []
    },
    {
      "cell_type": "code",
      "metadata": {
        "id": "EviSRv0G8xkk",
        "colab_type": "code",
        "outputId": "d6a20a63-797a-442f-8122-d2e17baa4380",
        "colab": {
          "base_uri": "https://localhost:8080/",
          "height": 35
        }
      },
      "source": [
        "X_train.shape, X_test.shape, Y_train.shape, Y_test.shape"
      ],
      "execution_count": 60,
      "outputs": [
        {
          "output_type": "execute_result",
          "data": {
            "text/plain": [
              "((82754,), (70,), (82754, 2), (70, 2))"
            ]
          },
          "metadata": {
            "tags": []
          },
          "execution_count": 60
        }
      ]
    },
    {
      "cell_type": "markdown",
      "metadata": {
        "id": "HNJ3J12q85rT",
        "colab_type": "text"
      },
      "source": [
        "# Tokenisation and Padding Sequences"
      ]
    },
    {
      "cell_type": "code",
      "metadata": {
        "id": "MhleR4bG8zLx",
        "colab_type": "code",
        "colab": {}
      },
      "source": [
        "max_features = 20000\n",
        "tokenizer = Tokenizer(num_words = max_features, char_level=True)  "
      ],
      "execution_count": 0,
      "outputs": []
    },
    {
      "cell_type": "code",
      "metadata": {
        "id": "6LERvPZX88-Q",
        "colab_type": "code",
        "colab": {}
      },
      "source": [
        "tokenizer.fit_on_texts(list(X_train))"
      ],
      "execution_count": 0,
      "outputs": []
    },
    {
      "cell_type": "code",
      "metadata": {
        "id": "_eCBT-4M8-Fo",
        "colab_type": "code",
        "colab": {}
      },
      "source": [
        "X_train = tokenizer.texts_to_sequences(X_train)\n",
        "X_test = tokenizer.texts_to_sequences(X_test)"
      ],
      "execution_count": 0,
      "outputs": []
    },
    {
      "cell_type": "code",
      "metadata": {
        "id": "RDLXrjt8In7Q",
        "colab_type": "code",
        "colab": {}
      },
      "source": [
        "tokenizer_json = tokenizer.to_json()\n",
        "with io.open('/content/drive/My Drive/Colab Notebooks/NLP - Sem 6/Project/tokenizer.json', 'w', encoding='utf-8') as f:\n",
        "    f.write(json.dumps(tokenizer_json, ensure_ascii=False))"
      ],
      "execution_count": 0,
      "outputs": []
    },
    {
      "cell_type": "code",
      "metadata": {
        "id": "XWMUrn_e8_JI",
        "colab_type": "code",
        "colab": {}
      },
      "source": [
        "maxlen = 400\n",
        "X_train = pad_sequences(X_train, maxlen = maxlen, padding = \"post\")\n",
        "X_test = pad_sequences(X_test, maxlen = maxlen, padding = \"post\")"
      ],
      "execution_count": 0,
      "outputs": []
    },
    {
      "cell_type": "markdown",
      "metadata": {
        "id": "sh4t1rLL9Boz",
        "colab_type": "text"
      },
      "source": [
        "# GloVe Embedding"
      ]
    },
    {
      "cell_type": "code",
      "metadata": {
        "id": "eWOFflD39AfC",
        "colab_type": "code",
        "colab": {}
      },
      "source": [
        "embeddings_dictionary = dict()\n",
        "vocab_size = len(tokenizer.word_index) + 1\n",
        "\n",
        "glove_file = open(r\"/content/drive/My Drive/Colab Notebooks/NLP - Sem 6/Project/glove.6B.100d.txt\", encoding=\"utf8\")\n",
        "\n",
        "for line in glove_file:\n",
        "    \n",
        "    records = line.split() \n",
        "    word = records[0]\n",
        "    vector_dimensions = np.asarray(records[1:], dtype='float32')\n",
        "    embeddings_dictionary[word] = vector_dimensions\n",
        "    \n",
        "glove_file.close()\n",
        "\n",
        "embedding_matrix = np.zeros((vocab_size, 100))\n",
        "\n",
        "for word, index in tokenizer.word_index.items():\n",
        "    \n",
        "    embedding_vector = embeddings_dictionary.get(word)\n",
        "    \n",
        "    if embedding_vector is not None:\n",
        "        embedding_matrix[index] = embedding_vector"
      ],
      "execution_count": 0,
      "outputs": []
    },
    {
      "cell_type": "markdown",
      "metadata": {
        "id": "qKms7xwv9LNQ",
        "colab_type": "text"
      },
      "source": [
        "# Neural Network - Type 0\n",
        "\n",
        "### Layers:\n",
        "\n",
        "1. Embedding (using **glove** embedding weights)\n",
        "2. Convolutional 1D layer\n",
        "3. Max Pooling\n",
        "4. LSTM\n",
        "5. Global Max Pooling\n",
        "6. Dropout\n",
        "7. Dense\n",
        "8. Drop-out\n",
        "9. Dense (final output layer)\n",
        "\n",
        "### Input Data:\n",
        "\n",
        "1. X_train: normal \n",
        "2. X_test: normal\n",
        "3. Y_train: **6 columns** (toxic, severe_toxic, obscene, threat, insult, identity_hate)\n",
        "4. Y_test: same as Y_train"
      ]
    },
    {
      "cell_type": "markdown",
      "metadata": {
        "id": "NyunyUSn-Bxa",
        "colab_type": "text"
      },
      "source": [
        "### Architecture"
      ]
    },
    {
      "cell_type": "code",
      "metadata": {
        "id": "Zmm8ADaH9Jh7",
        "colab_type": "code",
        "outputId": "a7805a8d-8222-472a-9859-5334a8effc64",
        "colab": {
          "base_uri": "https://localhost:8080/",
          "height": 35
        }
      },
      "source": [
        "inp = Input(shape = (maxlen,))\n",
        "\n",
        "x = Embedding(vocab_size, 100, weights=[embedding_matrix], trainable=False)(inp) # feature extraction\n",
        "\n",
        "x = Conv1D(filters = 100, kernel_size = 4, padding = 'same', activation = 'relu')(x) # feature extraction\n",
        "\n",
        "x = MaxPooling1D(pool_size=4)(x) # reduce dimensionality\n",
        "\n",
        "x = LSTM(50, return_sequences = True, dropout = 0.1, recurrent_dropout = 0.1)(x) # feature extraction\n",
        "\n",
        "x = GlobalMaxPool1D()(x) # reduce dimensionality\n",
        "\n",
        "x = Dropout(0.1)(x) # reduce over fitting\n",
        "\n",
        "x = Dense(50, activation = \"relu\")(x) # flattening and making a fully connected layer\n",
        "\n",
        "x = Dropout(0.1)(x) # reduce over fitting\n",
        "\n",
        "x = Dense(6, activation = \"sigmoid\")(x) # flattening and making a fully connected layer\n",
        "\n",
        "model = Model(inputs = inp, outputs = x)\n",
        "\n",
        "model.compile(loss = 'binary_crossentropy', optimizer = 'adam', metrics = ['accuracy'])"
      ],
      "execution_count": 0,
      "outputs": [
        {
          "output_type": "stream",
          "text": [
            "WARNING:tensorflow:Layer lstm will not use cuDNN kernel since it doesn't meet the cuDNN kernel criteria. It will use generic GPU kernel as fallback when running on GPU\n"
          ],
          "name": "stdout"
        }
      ]
    },
    {
      "cell_type": "markdown",
      "metadata": {
        "id": "5Zsy9Khp-Ogc",
        "colab_type": "text"
      },
      "source": [
        "### Model Summary"
      ]
    },
    {
      "cell_type": "code",
      "metadata": {
        "id": "tIYaXawn-N_R",
        "colab_type": "code",
        "outputId": "2dba484f-c4f9-4037-f639-348c3e84af49",
        "colab": {
          "base_uri": "https://localhost:8080/",
          "height": 515
        }
      },
      "source": [
        "model.summary()"
      ],
      "execution_count": 0,
      "outputs": [
        {
          "output_type": "stream",
          "text": [
            "Model: \"model\"\n",
            "_________________________________________________________________\n",
            "Layer (type)                 Output Shape              Param #   \n",
            "=================================================================\n",
            "input_1 (InputLayer)         [(None, 50)]              0         \n",
            "_________________________________________________________________\n",
            "embedding (Embedding)        (None, 50, 100)           79300     \n",
            "_________________________________________________________________\n",
            "conv1d (Conv1D)              (None, 50, 100)           40100     \n",
            "_________________________________________________________________\n",
            "max_pooling1d (MaxPooling1D) (None, 12, 100)           0         \n",
            "_________________________________________________________________\n",
            "lstm (LSTM)                  (None, 12, 50)            30200     \n",
            "_________________________________________________________________\n",
            "global_max_pooling1d (Global (None, 50)                0         \n",
            "_________________________________________________________________\n",
            "dropout (Dropout)            (None, 50)                0         \n",
            "_________________________________________________________________\n",
            "dense (Dense)                (None, 50)                2550      \n",
            "_________________________________________________________________\n",
            "dropout_1 (Dropout)          (None, 50)                0         \n",
            "_________________________________________________________________\n",
            "dense_1 (Dense)              (None, 6)                 306       \n",
            "=================================================================\n",
            "Total params: 152,456\n",
            "Trainable params: 73,156\n",
            "Non-trainable params: 79,300\n",
            "_________________________________________________________________\n"
          ],
          "name": "stdout"
        }
      ]
    },
    {
      "cell_type": "markdown",
      "metadata": {
        "id": "akdRTAUB-VKE",
        "colab_type": "text"
      },
      "source": [
        "### Fitting and Saving the BEST Model Weights"
      ]
    },
    {
      "cell_type": "code",
      "metadata": {
        "id": "L9bE58ZQ-Qbz",
        "colab_type": "code",
        "outputId": "2b74f591-c251-4996-f973-d8f049be452d",
        "colab": {
          "base_uri": "https://localhost:8080/",
          "height": 746
        }
      },
      "source": [
        "batch_size = 256\n",
        "epochs = 10\n",
        "\n",
        "file_path = \"/content/drive/My Drive/Colab Notebooks/NLP - Sem 6/Project/Models/nn0.hdf5\"\n",
        "checkpoint = ModelCheckpoint(file_path, monitor ='val_loss', verbose = 1, save_best_only = True, mode = 'min')\n",
        "\n",
        "early = EarlyStopping(monitor = \"val_loss\", mode = \"min\", patience = 20)\n",
        "\n",
        "callbacks_list = [checkpoint, early]\n",
        "\n",
        "model.fit(X_train, Y_train, batch_size = batch_size, epochs = epochs, validation_data = (X_test, Y_test), callbacks = callbacks_list, verbose = 1) "
      ],
      "execution_count": 0,
      "outputs": [
        {
          "output_type": "stream",
          "text": [
            "Epoch 1/10\n",
            "324/324 [==============================] - ETA: 0s - loss: 0.1502 - accuracy: 0.8007\n",
            "Epoch 00001: val_loss improved from inf to 0.43220, saving model to /content/drive/My Drive/Colab Notebooks/NLP - Sem 6/Project/Models/nn0.hdf5\n",
            "324/324 [==============================] - 21s 65ms/step - loss: 0.1502 - accuracy: 0.8007 - val_loss: 0.4322 - val_accuracy: 0.9900\n",
            "Epoch 2/10\n",
            "323/324 [============================>.] - ETA: 0s - loss: 0.0965 - accuracy: 0.9490\n",
            "Epoch 00002: val_loss did not improve from 0.43220\n",
            "324/324 [==============================] - 20s 63ms/step - loss: 0.0966 - accuracy: 0.9490 - val_loss: 0.4368 - val_accuracy: 0.9900\n",
            "Epoch 3/10\n",
            "323/324 [============================>.] - ETA: 0s - loss: 0.0874 - accuracy: 0.9777\n",
            "Epoch 00003: val_loss improved from 0.43220 to 0.36673, saving model to /content/drive/My Drive/Colab Notebooks/NLP - Sem 6/Project/Models/nn0.hdf5\n",
            "324/324 [==============================] - 21s 64ms/step - loss: 0.0873 - accuracy: 0.9777 - val_loss: 0.3667 - val_accuracy: 0.9900\n",
            "Epoch 4/10\n",
            "324/324 [==============================] - ETA: 0s - loss: 0.0825 - accuracy: 0.9869\n",
            "Epoch 00004: val_loss did not improve from 0.36673\n",
            "324/324 [==============================] - 20s 63ms/step - loss: 0.0825 - accuracy: 0.9869 - val_loss: 0.4250 - val_accuracy: 0.9900\n",
            "Epoch 5/10\n",
            "324/324 [==============================] - ETA: 0s - loss: 0.0798 - accuracy: 0.9909\n",
            "Epoch 00005: val_loss did not improve from 0.36673\n",
            "324/324 [==============================] - 21s 65ms/step - loss: 0.0798 - accuracy: 0.9909 - val_loss: 0.4081 - val_accuracy: 0.9900\n",
            "Epoch 6/10\n",
            "324/324 [==============================] - ETA: 0s - loss: 0.0777 - accuracy: 0.9926\n",
            "Epoch 00006: val_loss improved from 0.36673 to 0.36391, saving model to /content/drive/My Drive/Colab Notebooks/NLP - Sem 6/Project/Models/nn0.hdf5\n",
            "324/324 [==============================] - 21s 66ms/step - loss: 0.0777 - accuracy: 0.9926 - val_loss: 0.3639 - val_accuracy: 0.9900\n",
            "Epoch 7/10\n",
            "324/324 [==============================] - ETA: 0s - loss: 0.0753 - accuracy: 0.9934\n",
            "Epoch 00007: val_loss did not improve from 0.36391\n",
            "324/324 [==============================] - 22s 68ms/step - loss: 0.0753 - accuracy: 0.9934 - val_loss: 0.3777 - val_accuracy: 0.9900\n",
            "Epoch 8/10\n",
            "324/324 [==============================] - ETA: 0s - loss: 0.0737 - accuracy: 0.9935\n",
            "Epoch 00008: val_loss improved from 0.36391 to 0.31268, saving model to /content/drive/My Drive/Colab Notebooks/NLP - Sem 6/Project/Models/nn0.hdf5\n",
            "324/324 [==============================] - 23s 71ms/step - loss: 0.0737 - accuracy: 0.9935 - val_loss: 0.3127 - val_accuracy: 0.9900\n",
            "Epoch 9/10\n",
            "324/324 [==============================] - ETA: 0s - loss: 0.0721 - accuracy: 0.9943\n",
            "Epoch 00009: val_loss did not improve from 0.31268\n",
            "324/324 [==============================] - 22s 67ms/step - loss: 0.0721 - accuracy: 0.9943 - val_loss: 0.3477 - val_accuracy: 0.9900\n",
            "Epoch 10/10\n",
            "324/324 [==============================] - ETA: 0s - loss: 0.0709 - accuracy: 0.9944\n",
            "Epoch 00010: val_loss did not improve from 0.31268\n",
            "324/324 [==============================] - 22s 68ms/step - loss: 0.0709 - accuracy: 0.9944 - val_loss: 0.3680 - val_accuracy: 0.9900\n"
          ],
          "name": "stdout"
        },
        {
          "output_type": "execute_result",
          "data": {
            "text/plain": [
              "<tensorflow.python.keras.callbacks.History at 0x7f0e5024ad30>"
            ]
          },
          "metadata": {
            "tags": []
          },
          "execution_count": 18
        }
      ]
    },
    {
      "cell_type": "markdown",
      "metadata": {
        "id": "93MIudoB-ukR",
        "colab_type": "text"
      },
      "source": [
        "# Neural Network - Type 1\n",
        "\n",
        "### Layers:\n",
        "\n",
        "1. Embedding (**WITHOUT glove**)\n",
        "2. Convolutional 1D layer\n",
        "3. Max Pooling\n",
        "4. LSTM\n",
        "5. Global Max Pooling\n",
        "6. Dropout\n",
        "7. Dense\n",
        "8. Drop-out\n",
        "9. Dense (final output layer)\n",
        "\n",
        "### Input Data:\n",
        "\n",
        "1. X_train: normal \n",
        "2. X_test: normal\n",
        "3. Y_train: **6 columns** (toxic, severe_toxic, obscene, threat, insult, identity_hate)\n",
        "4. Y_test: same as Y_train"
      ]
    },
    {
      "cell_type": "markdown",
      "metadata": {
        "id": "78emlTdf-0Rg",
        "colab_type": "text"
      },
      "source": [
        "### Architecture"
      ]
    },
    {
      "cell_type": "code",
      "metadata": {
        "id": "Gvx6NVRd-ly2",
        "colab_type": "code",
        "outputId": "3709ef97-69d0-4b11-afd6-d331f974d8cd",
        "colab": {
          "base_uri": "https://localhost:8080/",
          "height": 35
        }
      },
      "source": [
        "vocab_size = len(tokenizer.word_index) + 1\n",
        "\n",
        "inp = Input(shape = (maxlen,))\n",
        "\n",
        "x = Embedding(vocab_size, 250)(inp)\n",
        "\n",
        "x = Conv1D(filters = 100, kernel_size = 4, padding = 'same', activation = 'relu')(x) \n",
        "\n",
        "x = MaxPooling1D(pool_size=4)(x)\n",
        "\n",
        "x = LSTM(50, return_sequences = True, dropout = 0.1, recurrent_dropout = 0.1)(x)\n",
        "\n",
        "x = GlobalMaxPool1D()(x)\n",
        "\n",
        "x = Dense(50, activation = \"relu\")(x)\n",
        "\n",
        "x = Dropout(0.2)(x)\n",
        "\n",
        "x = Dense(6, activation = \"sigmoid\")(x)\n",
        "\n",
        "model = Model(inputs = inp, outputs = x)\n",
        "\n",
        "model.compile(loss = 'binary_crossentropy', optimizer = 'adam', metrics = ['accuracy'])"
      ],
      "execution_count": 41,
      "outputs": [
        {
          "output_type": "stream",
          "text": [
            "WARNING:tensorflow:Layer lstm_2 will not use cuDNN kernel since it doesn't meet the cuDNN kernel criteria. It will use generic GPU kernel as fallback when running on GPU\n"
          ],
          "name": "stdout"
        }
      ]
    },
    {
      "cell_type": "markdown",
      "metadata": {
        "id": "HFK045vP_W4O",
        "colab_type": "text"
      },
      "source": [
        "### Model Summary"
      ]
    },
    {
      "cell_type": "code",
      "metadata": {
        "id": "POU2UMq8_WOR",
        "colab_type": "code",
        "outputId": "262e19c5-1db1-40ea-ddbe-b00e0ab8f58f",
        "colab": {
          "base_uri": "https://localhost:8080/",
          "height": 479
        }
      },
      "source": [
        "model.summary()"
      ],
      "execution_count": 42,
      "outputs": [
        {
          "output_type": "stream",
          "text": [
            "Model: \"model_2\"\n",
            "_________________________________________________________________\n",
            "Layer (type)                 Output Shape              Param #   \n",
            "=================================================================\n",
            "input_3 (InputLayer)         [(None, 400)]             0         \n",
            "_________________________________________________________________\n",
            "embedding_2 (Embedding)      (None, 400, 250)          198250    \n",
            "_________________________________________________________________\n",
            "conv1d_2 (Conv1D)            (None, 400, 100)          100100    \n",
            "_________________________________________________________________\n",
            "max_pooling1d_2 (MaxPooling1 (None, 100, 100)          0         \n",
            "_________________________________________________________________\n",
            "lstm_2 (LSTM)                (None, 100, 50)           30200     \n",
            "_________________________________________________________________\n",
            "global_max_pooling1d_2 (Glob (None, 50)                0         \n",
            "_________________________________________________________________\n",
            "dense_4 (Dense)              (None, 50)                2550      \n",
            "_________________________________________________________________\n",
            "dropout_2 (Dropout)          (None, 50)                0         \n",
            "_________________________________________________________________\n",
            "dense_5 (Dense)              (None, 6)                 306       \n",
            "=================================================================\n",
            "Total params: 331,406\n",
            "Trainable params: 331,406\n",
            "Non-trainable params: 0\n",
            "_________________________________________________________________\n"
          ],
          "name": "stdout"
        }
      ]
    },
    {
      "cell_type": "markdown",
      "metadata": {
        "id": "9wJ8JrBE_b-l",
        "colab_type": "text"
      },
      "source": [
        "### Fitting and Saving the BEST Model Weights"
      ]
    },
    {
      "cell_type": "code",
      "metadata": {
        "id": "5f9hWBb7_Ytp",
        "colab_type": "code",
        "outputId": "43f85d50-4e9f-4831-da43-088f9c49cf03",
        "colab": {
          "base_uri": "https://localhost:8080/",
          "height": 728
        }
      },
      "source": [
        "batch_size = 256\n",
        "epochs = 10\n",
        "\n",
        "file_path = \"/content/drive/My Drive/Colab Notebooks/NLP - Sem 6/Project/Models/nn1_new.hdf5\"\n",
        "checkpoint = ModelCheckpoint(file_path, monitor ='val_loss', verbose = 1, save_best_only = True, mode = 'min')\n",
        "\n",
        "early = EarlyStopping(monitor = \"val_loss\", mode = \"min\", patience = 20)\n",
        "\n",
        "callbacks_list = [checkpoint, early]\n",
        "\n",
        "history = model.fit(X_train, Y_train, batch_size = batch_size, epochs = epochs, validation_data = (X_test, Y_test), callbacks = callbacks_list, verbose = 1) "
      ],
      "execution_count": 43,
      "outputs": [
        {
          "output_type": "stream",
          "text": [
            "Epoch 1/10\n",
            "324/324 [==============================] - ETA: 0s - loss: 0.1492 - accuracy: 0.6198\n",
            "Epoch 00001: val_loss improved from inf to 0.89243, saving model to /content/drive/My Drive/Colab Notebooks/NLP - Sem 6/Project/Models/nn1_new.hdf5\n",
            "324/324 [==============================] - 129s 398ms/step - loss: 0.1492 - accuracy: 0.6198 - val_loss: 0.8924 - val_accuracy: 0.6714\n",
            "Epoch 2/10\n",
            "324/324 [==============================] - ETA: 0s - loss: 0.0847 - accuracy: 0.8573\n",
            "Epoch 00002: val_loss did not improve from 0.89243\n",
            "324/324 [==============================] - 129s 397ms/step - loss: 0.0847 - accuracy: 0.8573 - val_loss: 0.9617 - val_accuracy: 0.9286\n",
            "Epoch 3/10\n",
            "324/324 [==============================] - ETA: 0s - loss: 0.0752 - accuracy: 0.9382\n",
            "Epoch 00003: val_loss improved from 0.89243 to 0.80936, saving model to /content/drive/My Drive/Colab Notebooks/NLP - Sem 6/Project/Models/nn1_new.hdf5\n",
            "324/324 [==============================] - 129s 398ms/step - loss: 0.0752 - accuracy: 0.9382 - val_loss: 0.8094 - val_accuracy: 0.9286\n",
            "Epoch 4/10\n",
            "324/324 [==============================] - ETA: 0s - loss: 0.0641 - accuracy: 0.9729\n",
            "Epoch 00004: val_loss improved from 0.80936 to 0.75123, saving model to /content/drive/My Drive/Colab Notebooks/NLP - Sem 6/Project/Models/nn1_new.hdf5\n",
            "324/324 [==============================] - 128s 395ms/step - loss: 0.0641 - accuracy: 0.9729 - val_loss: 0.7512 - val_accuracy: 0.9286\n",
            "Epoch 5/10\n",
            "324/324 [==============================] - ETA: 0s - loss: 0.0596 - accuracy: 0.9860\n",
            "Epoch 00005: val_loss improved from 0.75123 to 0.70980, saving model to /content/drive/My Drive/Colab Notebooks/NLP - Sem 6/Project/Models/nn1_new.hdf5\n",
            "324/324 [==============================] - 128s 396ms/step - loss: 0.0596 - accuracy: 0.9860 - val_loss: 0.7098 - val_accuracy: 0.9286\n",
            "Epoch 6/10\n",
            "324/324 [==============================] - ETA: 0s - loss: 0.0572 - accuracy: 0.9895\n",
            "Epoch 00006: val_loss improved from 0.70980 to 0.66209, saving model to /content/drive/My Drive/Colab Notebooks/NLP - Sem 6/Project/Models/nn1_new.hdf5\n",
            "324/324 [==============================] - 128s 396ms/step - loss: 0.0572 - accuracy: 0.9895 - val_loss: 0.6621 - val_accuracy: 0.9286\n",
            "Epoch 7/10\n",
            "324/324 [==============================] - ETA: 0s - loss: 0.0544 - accuracy: 0.9904\n",
            "Epoch 00007: val_loss improved from 0.66209 to 0.63924, saving model to /content/drive/My Drive/Colab Notebooks/NLP - Sem 6/Project/Models/nn1_new.hdf5\n",
            "324/324 [==============================] - 129s 397ms/step - loss: 0.0544 - accuracy: 0.9904 - val_loss: 0.6392 - val_accuracy: 0.9286\n",
            "Epoch 8/10\n",
            "324/324 [==============================] - ETA: 0s - loss: 0.0531 - accuracy: 0.9929\n",
            "Epoch 00008: val_loss did not improve from 0.63924\n",
            "324/324 [==============================] - 128s 396ms/step - loss: 0.0531 - accuracy: 0.9929 - val_loss: 0.6430 - val_accuracy: 0.9286\n",
            "Epoch 9/10\n",
            "324/324 [==============================] - ETA: 0s - loss: 0.0512 - accuracy: 0.9936\n",
            "Epoch 00009: val_loss did not improve from 0.63924\n",
            "324/324 [==============================] - 128s 397ms/step - loss: 0.0512 - accuracy: 0.9936 - val_loss: 0.6408 - val_accuracy: 0.9286\n",
            "Epoch 10/10\n",
            "324/324 [==============================] - ETA: 0s - loss: 0.0496 - accuracy: 0.9940\n",
            "Epoch 00010: val_loss did not improve from 0.63924\n",
            "324/324 [==============================] - 129s 399ms/step - loss: 0.0496 - accuracy: 0.9940 - val_loss: 0.7040 - val_accuracy: 0.9286\n"
          ],
          "name": "stdout"
        }
      ]
    },
    {
      "cell_type": "code",
      "metadata": {
        "id": "XUlvjSTn8LZF",
        "colab_type": "code",
        "colab": {
          "base_uri": "https://localhost:8080/",
          "height": 573
        },
        "outputId": "4919f657-c410-4d60-8e2e-bed6065103a9"
      },
      "source": [
        "# summarize history for accuracy\n",
        "plt.plot(history.history['accuracy'])\n",
        "plt.plot(history.history['val_accuracy'])\n",
        "plt.title('model accuracy')\n",
        "plt.ylabel('accuracy')\n",
        "plt.xlabel('epoch')\n",
        "plt.legend(['train', 'validation'], loc='upper left')\n",
        "plt.show()\n",
        "# summarize history for loss\n",
        "plt.plot(history.history['loss'])\n",
        "plt.plot(history.history['val_loss'])\n",
        "plt.title('model loss')\n",
        "plt.ylabel('loss')\n",
        "plt.xlabel('epoch')\n",
        "plt.legend(['train', 'validation'], loc='upper left')\n",
        "plt.show()"
      ],
      "execution_count": 44,
      "outputs": [
        {
          "output_type": "display_data",
          "data": {
            "image/png": "[encoded data removed]",
            "text/plain": [
              "<Figure size 432x288 with 1 Axes>"
            ]
          },
          "metadata": {
            "tags": []
          }
        },
        {
          "output_type": "display_data",
          "data": {
            "image/png": "[encoded data removed]",
            "text/plain": [
              "<Figure size 432x288 with 1 Axes>"
            ]
          },
          "metadata": {
            "tags": []
          }
        }
      ]
    },
    {
      "cell_type": "markdown",
      "metadata": {
        "id": "lo4gtci1MyOT",
        "colab_type": "text"
      },
      "source": [
        "### Prediction on X_test"
      ]
    },
    {
      "cell_type": "code",
      "metadata": {
        "id": "mnpV7W2LM7nU",
        "colab_type": "code",
        "colab": {
          "base_uri": "https://localhost:8080/",
          "height": 464
        },
        "outputId": "e0d7f93e-a7f5-4ca0-8574-8f9450aa5d33"
      },
      "source": [
        "model = load_model(r\"/content/drive/My Drive/Colab Notebooks/NLP - Sem 6/Project/Models/nn1_new.hdf5\")\n",
        "y_pred = model.predict(X_test, verbose = 1)\n",
        "\n",
        "outer_list = []\n",
        "\n",
        "for y in y_pred:\n",
        "  \n",
        "  inner_list = []\n",
        "\n",
        "  for i in y:\n",
        "\n",
        "    if i >= 0.5:\n",
        "      inner_list.append(1)\n",
        "\n",
        "    else:\n",
        "      inner_list.append(0)\n",
        "\n",
        "  outer_list.append(inner_list)\n",
        "\n",
        "df = pd.DataFrame.from_records(outer_list)\n",
        "df.columns = [\"toxic\", \"severe_toxic\", \"obscene\", \"threat\", \"insult\", \"identity_hate\"]\n",
        "df"
      ],
      "execution_count": 45,
      "outputs": [
        {
          "output_type": "stream",
          "text": [
            "WARNING:tensorflow:Layer lstm_2 will not use cuDNN kernel since it doesn't meet the cuDNN kernel criteria. It will use generic GPU kernel as fallback when running on GPU\n",
            "WARNING:tensorflow:Error in loading the saved optimizer state. As a result, your model is starting with a freshly initialized optimizer.\n",
            "3/3 [==============================] - 0s 17ms/step\n"
          ],
          "name": "stdout"
        },
        {
          "output_type": "execute_result",
          "data": {
            "text/html": [
              "<div>\n",
              "<style scoped>\n",
              "    .dataframe tbody tr th:only-of-type {\n",
              "        vertical-align: middle;\n",
              "    }\n",
              "\n",
              "    .dataframe tbody tr th {\n",
              "        vertical-align: top;\n",
              "    }\n",
              "\n",
              "    .dataframe thead th {\n",
              "        text-align: right;\n",
              "    }\n",
              "</style>\n",
              "<table border=\"1\" class=\"dataframe\">\n",
              "  <thead>\n",
              "    <tr style=\"text-align: right;\">\n",
              "      <th></th>\n",
              "      <th>toxic</th>\n",
              "      <th>severe_toxic</th>\n",
              "      <th>obscene</th>\n",
              "      <th>threat</th>\n",
              "      <th>insult</th>\n",
              "      <th>identity_hate</th>\n",
              "    </tr>\n",
              "  </thead>\n",
              "  <tbody>\n",
              "    <tr>\n",
              "      <th>0</th>\n",
              "      <td>0</td>\n",
              "      <td>0</td>\n",
              "      <td>0</td>\n",
              "      <td>0</td>\n",
              "      <td>0</td>\n",
              "      <td>0</td>\n",
              "    </tr>\n",
              "    <tr>\n",
              "      <th>1</th>\n",
              "      <td>0</td>\n",
              "      <td>0</td>\n",
              "      <td>0</td>\n",
              "      <td>0</td>\n",
              "      <td>0</td>\n",
              "      <td>0</td>\n",
              "    </tr>\n",
              "    <tr>\n",
              "      <th>2</th>\n",
              "      <td>0</td>\n",
              "      <td>0</td>\n",
              "      <td>0</td>\n",
              "      <td>0</td>\n",
              "      <td>0</td>\n",
              "      <td>0</td>\n",
              "    </tr>\n",
              "    <tr>\n",
              "      <th>3</th>\n",
              "      <td>0</td>\n",
              "      <td>0</td>\n",
              "      <td>0</td>\n",
              "      <td>0</td>\n",
              "      <td>0</td>\n",
              "      <td>0</td>\n",
              "    </tr>\n",
              "    <tr>\n",
              "      <th>4</th>\n",
              "      <td>0</td>\n",
              "      <td>0</td>\n",
              "      <td>0</td>\n",
              "      <td>0</td>\n",
              "      <td>0</td>\n",
              "      <td>0</td>\n",
              "    </tr>\n",
              "    <tr>\n",
              "      <th>...</th>\n",
              "      <td>...</td>\n",
              "      <td>...</td>\n",
              "      <td>...</td>\n",
              "      <td>...</td>\n",
              "      <td>...</td>\n",
              "      <td>...</td>\n",
              "    </tr>\n",
              "    <tr>\n",
              "      <th>65</th>\n",
              "      <td>1</td>\n",
              "      <td>0</td>\n",
              "      <td>1</td>\n",
              "      <td>0</td>\n",
              "      <td>1</td>\n",
              "      <td>0</td>\n",
              "    </tr>\n",
              "    <tr>\n",
              "      <th>66</th>\n",
              "      <td>1</td>\n",
              "      <td>0</td>\n",
              "      <td>1</td>\n",
              "      <td>0</td>\n",
              "      <td>1</td>\n",
              "      <td>0</td>\n",
              "    </tr>\n",
              "    <tr>\n",
              "      <th>67</th>\n",
              "      <td>1</td>\n",
              "      <td>0</td>\n",
              "      <td>1</td>\n",
              "      <td>0</td>\n",
              "      <td>1</td>\n",
              "      <td>0</td>\n",
              "    </tr>\n",
              "    <tr>\n",
              "      <th>68</th>\n",
              "      <td>1</td>\n",
              "      <td>0</td>\n",
              "      <td>1</td>\n",
              "      <td>0</td>\n",
              "      <td>0</td>\n",
              "      <td>0</td>\n",
              "    </tr>\n",
              "    <tr>\n",
              "      <th>69</th>\n",
              "      <td>1</td>\n",
              "      <td>0</td>\n",
              "      <td>1</td>\n",
              "      <td>0</td>\n",
              "      <td>1</td>\n",
              "      <td>0</td>\n",
              "    </tr>\n",
              "  </tbody>\n",
              "</table>\n",
              "<p>70 rows × 6 columns</p>\n",
              "</div>"
            ],
            "text/plain": [
              "    toxic  severe_toxic  obscene  threat  insult  identity_hate\n",
              "0       0             0        0       0       0              0\n",
              "1       0             0        0       0       0              0\n",
              "2       0             0        0       0       0              0\n",
              "3       0             0        0       0       0              0\n",
              "4       0             0        0       0       0              0\n",
              "..    ...           ...      ...     ...     ...            ...\n",
              "65      1             0        1       0       1              0\n",
              "66      1             0        1       0       1              0\n",
              "67      1             0        1       0       1              0\n",
              "68      1             0        1       0       0              0\n",
              "69      1             0        1       0       1              0\n",
              "\n",
              "[70 rows x 6 columns]"
            ]
          },
          "metadata": {
            "tags": []
          },
          "execution_count": 45
        }
      ]
    },
    {
      "cell_type": "code",
      "metadata": {
        "id": "JxACxtU09LaI",
        "colab_type": "code",
        "colab": {
          "base_uri": "https://localhost:8080/",
          "height": 284
        },
        "outputId": "974a8b6e-f3fa-4461-fe83-c019d71ff61d"
      },
      "source": [
        "print(\"F1 score = \" + str(f1_score(Y_test, df, average = 'samples')))\n",
        "print(classification_report(Y_test, df))"
      ],
      "execution_count": 49,
      "outputs": [
        {
          "output_type": "stream",
          "text": [
            "F1 score = 0.5424489795918367\n",
            "              precision    recall  f1-score   support\n",
            "\n",
            "           0       0.96      0.89      0.92        55\n",
            "           1       0.00      0.00      0.00        11\n",
            "           2       0.90      0.77      0.83        48\n",
            "           3       0.00      0.00      0.00        24\n",
            "           4       0.95      0.82      0.88        44\n",
            "           5       0.00      0.00      0.00        26\n",
            "\n",
            "   micro avg       0.94      0.59      0.72       208\n",
            "   macro avg       0.47      0.41      0.44       208\n",
            "weighted avg       0.66      0.59      0.62       208\n",
            " samples avg       0.68      0.48      0.54       208\n",
            "\n"
          ],
          "name": "stdout"
        }
      ]
    },
    {
      "cell_type": "markdown",
      "metadata": {
        "colab_type": "text",
        "id": "21q2NhNDBX1n"
      },
      "source": [
        "# Neural Network - Type 2\n",
        "\n",
        "### Layers:\n",
        "\n",
        "1. Embedding (using **glove** embedding weights)\n",
        "2. Convolutional 1D layer\n",
        "3. Max Pooling\n",
        "4. LSTM\n",
        "5. Global Max Pooling\n",
        "6. Dropout\n",
        "7. Dense\n",
        "8. Drop-out\n",
        "9. Dense (final output layer)\n",
        "\n",
        "### Input Data:\n",
        "\n",
        "1. X_train: normal \n",
        "2. X_test: normal\n",
        "3. Y_train: **2 columns** (positive, negative)\n",
        "4. Y_test: same as Y_train"
      ]
    },
    {
      "cell_type": "markdown",
      "metadata": {
        "id": "O1QVEVhbBj9x",
        "colab_type": "text"
      },
      "source": [
        "### Architecture"
      ]
    },
    {
      "cell_type": "code",
      "metadata": {
        "id": "RdrgeLNhBeH-",
        "colab_type": "code",
        "outputId": "40510f7d-2f56-46eb-c959-bb86c3af76d1",
        "colab": {
          "base_uri": "https://localhost:8080/",
          "height": 35
        }
      },
      "source": [
        "inp = Input(shape = (maxlen,))\n",
        "\n",
        "x = Embedding(vocab_size, 100, weights=[embedding_matrix], trainable=False)(inp)\n",
        "\n",
        "x = Conv1D(filters = 100, kernel_size = 4, padding = 'same', activation = 'relu')(x)\n",
        "\n",
        "x = MaxPooling1D(pool_size=4)(x) \n",
        "\n",
        "x = LSTM(50, return_sequences = True, dropout = 0.1, recurrent_dropout = 0.1)(x)\n",
        "\n",
        "x = GlobalMaxPool1D()(x)\n",
        "\n",
        "x = Dropout(0.1)(x)\n",
        "\n",
        "x = Dense(50, activation = \"relu\")(x)\n",
        "\n",
        "x = Dropout(0.1)(x)\n",
        "\n",
        "x = Dense(2, activation = \"sigmoid\")(x)\n",
        "\n",
        "model = Model(inputs = inp, outputs = x)\n",
        "\n",
        "model.compile(loss = 'binary_crossentropy', optimizer = 'adam', metrics = ['accuracy'])"
      ],
      "execution_count": 0,
      "outputs": [
        {
          "output_type": "stream",
          "text": [
            "WARNING:tensorflow:Layer lstm_2 will not use cuDNN kernel since it doesn't meet the cuDNN kernel criteria. It will use generic GPU kernel as fallback when running on GPU\n"
          ],
          "name": "stdout"
        }
      ]
    },
    {
      "cell_type": "markdown",
      "metadata": {
        "id": "FA3U_UUSBp-7",
        "colab_type": "text"
      },
      "source": [
        "### Model Summary"
      ]
    },
    {
      "cell_type": "code",
      "metadata": {
        "id": "_S36p4m6BpWh",
        "colab_type": "code",
        "outputId": "f5187957-69c5-4aff-e03b-0d87a827fe35",
        "colab": {
          "base_uri": "https://localhost:8080/",
          "height": 515
        }
      },
      "source": [
        "model.summary()"
      ],
      "execution_count": 0,
      "outputs": [
        {
          "output_type": "stream",
          "text": [
            "Model: \"model_2\"\n",
            "_________________________________________________________________\n",
            "Layer (type)                 Output Shape              Param #   \n",
            "=================================================================\n",
            "input_3 (InputLayer)         [(None, 50)]              0         \n",
            "_________________________________________________________________\n",
            "embedding_2 (Embedding)      (None, 50, 100)           79300     \n",
            "_________________________________________________________________\n",
            "conv1d_2 (Conv1D)            (None, 50, 100)           40100     \n",
            "_________________________________________________________________\n",
            "max_pooling1d_2 (MaxPooling1 (None, 12, 100)           0         \n",
            "_________________________________________________________________\n",
            "lstm_2 (LSTM)                (None, 12, 50)            30200     \n",
            "_________________________________________________________________\n",
            "global_max_pooling1d_2 (Glob (None, 50)                0         \n",
            "_________________________________________________________________\n",
            "dropout_3 (Dropout)          (None, 50)                0         \n",
            "_________________________________________________________________\n",
            "dense_4 (Dense)              (None, 50)                2550      \n",
            "_________________________________________________________________\n",
            "dropout_4 (Dropout)          (None, 50)                0         \n",
            "_________________________________________________________________\n",
            "dense_5 (Dense)              (None, 2)                 102       \n",
            "=================================================================\n",
            "Total params: 152,252\n",
            "Trainable params: 72,952\n",
            "Non-trainable params: 79,300\n",
            "_________________________________________________________________\n"
          ],
          "name": "stdout"
        }
      ]
    },
    {
      "cell_type": "markdown",
      "metadata": {
        "id": "3iiAmO6xBvSh",
        "colab_type": "text"
      },
      "source": [
        "### Fitting and Saving the BEST Model Weights"
      ]
    },
    {
      "cell_type": "code",
      "metadata": {
        "id": "8urkmpuHBsT7",
        "colab_type": "code",
        "outputId": "ab29148a-11c3-420a-d30c-986b77de6448",
        "colab": {
          "base_uri": "https://localhost:8080/",
          "height": 746
        }
      },
      "source": [
        "batch_size = 256\n",
        "epochs = 10\n",
        "\n",
        "file_path = \"/content/drive/My Drive/Colab Notebooks/NLP - Sem 6/Project/Models/nn2.hdf5\"\n",
        "checkpoint = ModelCheckpoint(file_path, monitor ='val_loss', verbose = 1, save_best_only = True, mode = 'min')\n",
        "\n",
        "early = EarlyStopping(monitor = \"val_loss\", mode = \"min\", patience = 20)\n",
        "\n",
        "callbacks_list = [checkpoint, early]\n",
        "\n",
        "model.fit(X_train, Y_train, batch_size = batch_size, epochs = epochs, validation_data = (X_test, Y_test), callbacks = callbacks_list, verbose = 1) "
      ],
      "execution_count": 0,
      "outputs": [
        {
          "output_type": "stream",
          "text": [
            "Epoch 1/10\n",
            "323/324 [============================>.] - ETA: 0s - loss: 0.2978 - accuracy: 0.9055\n",
            "Epoch 00001: val_loss improved from inf to 0.93815, saving model to /content/drive/My Drive/Colab Notebooks/NLP - Sem 6/Project/Models/nn2.hdf5\n",
            "324/324 [==============================] - 22s 68ms/step - loss: 0.2973 - accuracy: 0.9055 - val_loss: 0.9381 - val_accuracy: 0.6700\n",
            "Epoch 2/10\n",
            "324/324 [==============================] - ETA: 0s - loss: 0.2258 - accuracy: 0.9330\n",
            "Epoch 00002: val_loss did not improve from 0.93815\n",
            "324/324 [==============================] - 22s 69ms/step - loss: 0.2258 - accuracy: 0.9330 - val_loss: 0.9624 - val_accuracy: 0.6500\n",
            "Epoch 3/10\n",
            "324/324 [==============================] - ETA: 0s - loss: 0.2063 - accuracy: 0.9386\n",
            "Epoch 00003: val_loss improved from 0.93815 to 0.64489, saving model to /content/drive/My Drive/Colab Notebooks/NLP - Sem 6/Project/Models/nn2.hdf5\n",
            "324/324 [==============================] - 22s 69ms/step - loss: 0.2063 - accuracy: 0.9386 - val_loss: 0.6449 - val_accuracy: 0.7200\n",
            "Epoch 4/10\n",
            "324/324 [==============================] - ETA: 0s - loss: 0.1934 - accuracy: 0.9410\n",
            "Epoch 00004: val_loss did not improve from 0.64489\n",
            "324/324 [==============================] - 22s 68ms/step - loss: 0.1934 - accuracy: 0.9410 - val_loss: 1.0183 - val_accuracy: 0.6700\n",
            "Epoch 5/10\n",
            "324/324 [==============================] - ETA: 0s - loss: 0.1863 - accuracy: 0.9434\n",
            "Epoch 00005: val_loss did not improve from 0.64489\n",
            "324/324 [==============================] - 22s 69ms/step - loss: 0.1863 - accuracy: 0.9434 - val_loss: 0.7243 - val_accuracy: 0.7400\n",
            "Epoch 6/10\n",
            "324/324 [==============================] - ETA: 0s - loss: 0.1802 - accuracy: 0.9447\n",
            "Epoch 00006: val_loss improved from 0.64489 to 0.57403, saving model to /content/drive/My Drive/Colab Notebooks/NLP - Sem 6/Project/Models/nn2.hdf5\n",
            "324/324 [==============================] - 22s 67ms/step - loss: 0.1802 - accuracy: 0.9447 - val_loss: 0.5740 - val_accuracy: 0.7800\n",
            "Epoch 7/10\n",
            "324/324 [==============================] - ETA: 0s - loss: 0.1750 - accuracy: 0.9460\n",
            "Epoch 00007: val_loss did not improve from 0.57403\n",
            "324/324 [==============================] - 22s 69ms/step - loss: 0.1750 - accuracy: 0.9460 - val_loss: 0.7652 - val_accuracy: 0.7200\n",
            "Epoch 8/10\n",
            "324/324 [==============================] - ETA: 0s - loss: 0.1710 - accuracy: 0.9471\n",
            "Epoch 00008: val_loss did not improve from 0.57403\n",
            "324/324 [==============================] - 22s 69ms/step - loss: 0.1710 - accuracy: 0.9471 - val_loss: 0.7587 - val_accuracy: 0.7200\n",
            "Epoch 9/10\n",
            "324/324 [==============================] - ETA: 0s - loss: 0.1676 - accuracy: 0.9478\n",
            "Epoch 00009: val_loss did not improve from 0.57403\n",
            "324/324 [==============================] - 22s 69ms/step - loss: 0.1676 - accuracy: 0.9478 - val_loss: 0.7787 - val_accuracy: 0.7400\n",
            "Epoch 10/10\n",
            "324/324 [==============================] - ETA: 0s - loss: 0.1644 - accuracy: 0.9490\n",
            "Epoch 00010: val_loss did not improve from 0.57403\n",
            "324/324 [==============================] - 22s 67ms/step - loss: 0.1644 - accuracy: 0.9490 - val_loss: 0.6657 - val_accuracy: 0.7800\n"
          ],
          "name": "stdout"
        },
        {
          "output_type": "execute_result",
          "data": {
            "text/plain": [
              "<tensorflow.python.keras.callbacks.History at 0x7f0d9c79eac8>"
            ]
          },
          "metadata": {
            "tags": []
          },
          "execution_count": 38
        }
      ]
    },
    {
      "cell_type": "markdown",
      "metadata": {
        "id": "V2ShFZwECOPt",
        "colab_type": "text"
      },
      "source": [
        "# Neural Network - Type 3\n",
        "\n",
        "### Layers:\n",
        "\n",
        "1. Embedding (**WITHOUT glove**)\n",
        "2. Convolutional 1D layer\n",
        "3. Max Pooling\n",
        "4. LSTM\n",
        "5. Global Max Pooling\n",
        "6. Dropout\n",
        "7. Dense\n",
        "8. Drop-out\n",
        "9. Dense (final output layer)\n",
        "\n",
        "### Input Data:\n",
        "\n",
        "1. X_train: normal \n",
        "2. X_test: normal\n",
        "3. Y_train: **2 columns** (positive, negative)\n",
        "4. Y_test: same as Y_train"
      ]
    },
    {
      "cell_type": "markdown",
      "metadata": {
        "id": "5_Hr-qWACTTD",
        "colab_type": "text"
      },
      "source": [
        "### Architecture"
      ]
    },
    {
      "cell_type": "code",
      "metadata": {
        "id": "sgTRbg-JB7wH",
        "colab_type": "code",
        "outputId": "7563e432-3457-446c-a332-0eee0c4ff5b7",
        "colab": {
          "base_uri": "https://localhost:8080/",
          "height": 35
        }
      },
      "source": [
        "vocab_size = len(tokenizer.word_index) + 1\n",
        "\n",
        "inp = Input(shape = (maxlen,))\n",
        "\n",
        "x = Embedding(vocab_size, 250)(inp)\n",
        "\n",
        "x = Conv1D(filters = 100, kernel_size = 4, padding = 'same', activation = 'relu')(x) \n",
        "\n",
        "x = MaxPooling1D(pool_size=4)(x)\n",
        "\n",
        "x = LSTM(50, return_sequences = True, dropout = 0.1, recurrent_dropout = 0.1)(x)\n",
        "\n",
        "x = GlobalMaxPool1D()(x)\n",
        "\n",
        "x = Dense(50, activation = \"relu\")(x)\n",
        "\n",
        "x = Dropout(0.2)(x)\n",
        "\n",
        "x = Dense(2, activation = \"softmax\")(x)\n",
        "\n",
        "model = Model(inputs = inp, outputs = x)\n",
        "\n",
        "model.compile(loss = 'categorical_crossentropy', optimizer = 'adam', metrics = ['accuracy'])"
      ],
      "execution_count": 66,
      "outputs": [
        {
          "output_type": "stream",
          "text": [
            "WARNING:tensorflow:Layer lstm_3 will not use cuDNN kernel since it doesn't meet the cuDNN kernel criteria. It will use generic GPU kernel as fallback when running on GPU\n"
          ],
          "name": "stdout"
        }
      ]
    },
    {
      "cell_type": "markdown",
      "metadata": {
        "id": "nIW6CLtiCbdj",
        "colab_type": "text"
      },
      "source": [
        "### Model Summary"
      ]
    },
    {
      "cell_type": "code",
      "metadata": {
        "id": "DS2gqmBDCZz_",
        "colab_type": "code",
        "outputId": "01f9f52b-79eb-49a2-f69e-4c825399071a",
        "colab": {
          "base_uri": "https://localhost:8080/",
          "height": 479
        }
      },
      "source": [
        "model.summary()"
      ],
      "execution_count": 67,
      "outputs": [
        {
          "output_type": "stream",
          "text": [
            "Model: \"model_3\"\n",
            "_________________________________________________________________\n",
            "Layer (type)                 Output Shape              Param #   \n",
            "=================================================================\n",
            "input_4 (InputLayer)         [(None, 400)]             0         \n",
            "_________________________________________________________________\n",
            "embedding_3 (Embedding)      (None, 400, 250)          198250    \n",
            "_________________________________________________________________\n",
            "conv1d_3 (Conv1D)            (None, 400, 100)          100100    \n",
            "_________________________________________________________________\n",
            "max_pooling1d_3 (MaxPooling1 (None, 100, 100)          0         \n",
            "_________________________________________________________________\n",
            "lstm_3 (LSTM)                (None, 100, 50)           30200     \n",
            "_________________________________________________________________\n",
            "global_max_pooling1d_3 (Glob (None, 50)                0         \n",
            "_________________________________________________________________\n",
            "dense_6 (Dense)              (None, 50)                2550      \n",
            "_________________________________________________________________\n",
            "dropout_3 (Dropout)          (None, 50)                0         \n",
            "_________________________________________________________________\n",
            "dense_7 (Dense)              (None, 2)                 102       \n",
            "=================================================================\n",
            "Total params: 331,202\n",
            "Trainable params: 331,202\n",
            "Non-trainable params: 0\n",
            "_________________________________________________________________\n"
          ],
          "name": "stdout"
        }
      ]
    },
    {
      "cell_type": "markdown",
      "metadata": {
        "id": "mduq8VJwCfuL",
        "colab_type": "text"
      },
      "source": [
        "### Fitting and Saving the BEST Model Weights"
      ]
    },
    {
      "cell_type": "code",
      "metadata": {
        "id": "3vmAH8wfCdgl",
        "colab_type": "code",
        "outputId": "e2e9de04-f63c-467d-bb51-1e754f4cf343",
        "colab": {
          "base_uri": "https://localhost:8080/",
          "height": 301
        }
      },
      "source": [
        "batch_size = 256\n",
        "epochs = 4\n",
        "\n",
        "file_path = \"/content/drive/My Drive/Colab Notebooks/NLP - Sem 6/Project/Models/nn3_new.hdf5\"\n",
        "checkpoint = ModelCheckpoint(file_path, monitor ='val_loss', verbose = 1, save_best_only = True, mode = 'min')\n",
        "\n",
        "early = EarlyStopping(monitor = \"val_loss\", mode = \"min\", patience = 20)\n",
        "\n",
        "callbacks_list = [checkpoint, early]\n",
        "\n",
        "history = model.fit(X_train, Y_train, batch_size = batch_size, epochs = epochs, validation_data = (X_test, Y_test), callbacks = callbacks_list, verbose = 1) "
      ],
      "execution_count": 70,
      "outputs": [
        {
          "output_type": "stream",
          "text": [
            "Epoch 1/4\n",
            "324/324 [==============================] - ETA: 0s - loss: 0.1708 - accuracy: 0.9426\n",
            "Epoch 00001: val_loss improved from inf to 0.56475, saving model to /content/drive/My Drive/Colab Notebooks/NLP - Sem 6/Project/Models/nn3_new.hdf5\n",
            "324/324 [==============================] - 129s 399ms/step - loss: 0.1708 - accuracy: 0.9426 - val_loss: 0.5648 - val_accuracy: 0.7857\n",
            "Epoch 2/4\n",
            "324/324 [==============================] - ETA: 0s - loss: 0.1382 - accuracy: 0.9534\n",
            "Epoch 00002: val_loss improved from 0.56475 to 0.40452, saving model to /content/drive/My Drive/Colab Notebooks/NLP - Sem 6/Project/Models/nn3_new.hdf5\n",
            "324/324 [==============================] - 129s 399ms/step - loss: 0.1382 - accuracy: 0.9534 - val_loss: 0.4045 - val_accuracy: 0.8286\n",
            "Epoch 3/4\n",
            "324/324 [==============================] - ETA: 0s - loss: 0.1190 - accuracy: 0.9598\n",
            "Epoch 00003: val_loss improved from 0.40452 to 0.33331, saving model to /content/drive/My Drive/Colab Notebooks/NLP - Sem 6/Project/Models/nn3_new.hdf5\n",
            "324/324 [==============================] - 129s 398ms/step - loss: 0.1190 - accuracy: 0.9598 - val_loss: 0.3333 - val_accuracy: 0.8714\n",
            "Epoch 4/4\n",
            "324/324 [==============================] - ETA: 0s - loss: 0.1060 - accuracy: 0.9635\n",
            "Epoch 00004: val_loss did not improve from 0.33331\n",
            "324/324 [==============================] - 128s 396ms/step - loss: 0.1060 - accuracy: 0.9635 - val_loss: 0.4882 - val_accuracy: 0.8286\n"
          ],
          "name": "stdout"
        }
      ]
    },
    {
      "cell_type": "code",
      "metadata": {
        "id": "9BRdzPvsMYyB",
        "colab_type": "code",
        "colab": {
          "base_uri": "https://localhost:8080/",
          "height": 573
        },
        "outputId": "80033bd9-babd-4ae6-b9ed-7c2ef5bcf340"
      },
      "source": [
        "# summarize history for accuracy\n",
        "plt.plot(history.history['accuracy'])\n",
        "plt.plot(history.history['val_accuracy'])\n",
        "plt.title('model accuracy')\n",
        "plt.ylabel('accuracy')\n",
        "plt.xlabel('epoch')\n",
        "plt.legend(['train', 'validation'], loc='upper left')\n",
        "plt.show()\n",
        "# summarize history for loss\n",
        "plt.plot(history.history['loss'])\n",
        "plt.plot(history.history['val_loss'])\n",
        "plt.title('model loss')\n",
        "plt.ylabel('loss')\n",
        "plt.xlabel('epoch')\n",
        "plt.legend(['train', 'validation'], loc='upper left')\n",
        "plt.show()"
      ],
      "execution_count": 71,
      "outputs": [
        {
          "output_type": "display_data",
          "data": {
            "image/png": "[encoded data removed]",
            "text/plain": [
              "<Figure size 432x288 with 1 Axes>"
            ]
          },
          "metadata": {
            "tags": []
          }
        },
        {
          "output_type": "display_data",
          "data": {
            "image/png": "[encoded data removed]",
            "text/plain": [
              "<Figure size 432x288 with 1 Axes>"
            ]
          },
          "metadata": {
            "tags": []
          }
        }
      ]
    },
    {
      "cell_type": "markdown",
      "metadata": {
        "id": "oXJxFX1TMjg4",
        "colab_type": "text"
      },
      "source": [
        "### Predicting on X_test"
      ]
    },
    {
      "cell_type": "code",
      "metadata": {
        "id": "7-HghMsCMfG1",
        "colab_type": "code",
        "colab": {
          "base_uri": "https://localhost:8080/",
          "height": 464
        },
        "outputId": "8f7ca88e-04d6-407b-f8c2-bdfbae91e700"
      },
      "source": [
        "model = load_model(r\"/content/drive/My Drive/Colab Notebooks/NLP - Sem 6/Project/Models/nn3_new.hdf5\")\n",
        "y_pred = model.predict(X_test, verbose = 1)\n",
        "\n",
        "outer_list = []\n",
        "\n",
        "for y in y_pred:\n",
        "  \n",
        "  inner_list = []\n",
        "\n",
        "  for i in y:\n",
        "\n",
        "    if i >= 0.5:\n",
        "      inner_list.append(1)\n",
        "\n",
        "    else:\n",
        "      inner_list.append(0)\n",
        "\n",
        "  outer_list.append(inner_list)\n",
        "\n",
        "df = pd.DataFrame.from_records(outer_list)\n",
        "df.columns = [\"positive\",\"negative\"]\n",
        "df"
      ],
      "execution_count": 73,
      "outputs": [
        {
          "output_type": "stream",
          "text": [
            "WARNING:tensorflow:Layer lstm_3 will not use cuDNN kernel since it doesn't meet the cuDNN kernel criteria. It will use generic GPU kernel as fallback when running on GPU\n",
            "WARNING:tensorflow:Error in loading the saved optimizer state. As a result, your model is starting with a freshly initialized optimizer.\n",
            "3/3 [==============================] - 0s 18ms/step\n"
          ],
          "name": "stdout"
        },
        {
          "output_type": "execute_result",
          "data": {
            "text/html": [
              "<div>\n",
              "<style scoped>\n",
              "    .dataframe tbody tr th:only-of-type {\n",
              "        vertical-align: middle;\n",
              "    }\n",
              "\n",
              "    .dataframe tbody tr th {\n",
              "        vertical-align: top;\n",
              "    }\n",
              "\n",
              "    .dataframe thead th {\n",
              "        text-align: right;\n",
              "    }\n",
              "</style>\n",
              "<table border=\"1\" class=\"dataframe\">\n",
              "  <thead>\n",
              "    <tr style=\"text-align: right;\">\n",
              "      <th></th>\n",
              "      <th>positive</th>\n",
              "      <th>negative</th>\n",
              "    </tr>\n",
              "  </thead>\n",
              "  <tbody>\n",
              "    <tr>\n",
              "      <th>0</th>\n",
              "      <td>1</td>\n",
              "      <td>0</td>\n",
              "    </tr>\n",
              "    <tr>\n",
              "      <th>1</th>\n",
              "      <td>1</td>\n",
              "      <td>0</td>\n",
              "    </tr>\n",
              "    <tr>\n",
              "      <th>2</th>\n",
              "      <td>1</td>\n",
              "      <td>0</td>\n",
              "    </tr>\n",
              "    <tr>\n",
              "      <th>3</th>\n",
              "      <td>1</td>\n",
              "      <td>0</td>\n",
              "    </tr>\n",
              "    <tr>\n",
              "      <th>4</th>\n",
              "      <td>1</td>\n",
              "      <td>0</td>\n",
              "    </tr>\n",
              "    <tr>\n",
              "      <th>...</th>\n",
              "      <td>...</td>\n",
              "      <td>...</td>\n",
              "    </tr>\n",
              "    <tr>\n",
              "      <th>65</th>\n",
              "      <td>0</td>\n",
              "      <td>1</td>\n",
              "    </tr>\n",
              "    <tr>\n",
              "      <th>66</th>\n",
              "      <td>0</td>\n",
              "      <td>1</td>\n",
              "    </tr>\n",
              "    <tr>\n",
              "      <th>67</th>\n",
              "      <td>0</td>\n",
              "      <td>1</td>\n",
              "    </tr>\n",
              "    <tr>\n",
              "      <th>68</th>\n",
              "      <td>0</td>\n",
              "      <td>1</td>\n",
              "    </tr>\n",
              "    <tr>\n",
              "      <th>69</th>\n",
              "      <td>0</td>\n",
              "      <td>1</td>\n",
              "    </tr>\n",
              "  </tbody>\n",
              "</table>\n",
              "<p>70 rows × 2 columns</p>\n",
              "</div>"
            ],
            "text/plain": [
              "    positive  negative\n",
              "0          1         0\n",
              "1          1         0\n",
              "2          1         0\n",
              "3          1         0\n",
              "4          1         0\n",
              "..       ...       ...\n",
              "65         0         1\n",
              "66         0         1\n",
              "67         0         1\n",
              "68         0         1\n",
              "69         0         1\n",
              "\n",
              "[70 rows x 2 columns]"
            ]
          },
          "metadata": {
            "tags": []
          },
          "execution_count": 73
        }
      ]
    },
    {
      "cell_type": "code",
      "metadata": {
        "id": "7I6kMBUDOy3F",
        "colab_type": "code",
        "colab": {
          "base_uri": "https://localhost:8080/",
          "height": 35
        },
        "outputId": "38eee777-d8dd-4a16-dc0a-740b5e2d7836"
      },
      "source": [
        "test.iloc[2,0]"
      ],
      "execution_count": 81,
      "outputs": [
        {
          "output_type": "execute_result",
          "data": {
            "text/plain": [
              "'title edit wondering edit title article made instead called antun wanted remname title autun name would easy people find could'"
            ]
          },
          "metadata": {
            "tags": []
          },
          "execution_count": 81
        }
      ]
    },
    {
      "cell_type": "code",
      "metadata": {
        "id": "EHIRJ_KQMohj",
        "colab_type": "code",
        "colab": {
          "base_uri": "https://localhost:8080/",
          "height": 212
        },
        "outputId": "45227cb5-76b4-4a9a-95e8-ea8e3e116553"
      },
      "source": [
        "print(\"F1 score = \" + str(f1_score(Y_test, df, average = 'samples')))\n",
        "print(classification_report(Y_test, df))"
      ],
      "execution_count": 74,
      "outputs": [
        {
          "output_type": "stream",
          "text": [
            "F1 score = 0.8714285714285714\n",
            "              precision    recall  f1-score   support\n",
            "\n",
            "           0       0.53      1.00      0.69        10\n",
            "           1       1.00      0.85      0.92        60\n",
            "\n",
            "   micro avg       0.87      0.87      0.87        70\n",
            "   macro avg       0.76      0.93      0.80        70\n",
            "weighted avg       0.93      0.87      0.89        70\n",
            " samples avg       0.87      0.87      0.87        70\n",
            "\n"
          ],
          "name": "stdout"
        }
      ]
    },
    {
      "cell_type": "markdown",
      "metadata": {
        "colab_type": "text",
        "id": "dvp3SAfwUTjX"
      },
      "source": [
        "# Neural Network - Type 4\n",
        "\n",
        "### Layers:\n",
        "\n",
        "1. Embedding (using **glove** embedding weights)\n",
        "2. LSTM\n",
        "3. Dropout\n",
        "4. Dense\n",
        "5. Drop-out\n",
        "6. Dense (final output layer)\n",
        "\n",
        "### Input Data:\n",
        "\n",
        "1. X_train: normal \n",
        "2. X_test: normal\n",
        "3. Y_train: **6 columns** (toxic, severe_toxic, obscene, threat, insult, identity_hate)\n",
        "4. Y_test: same as Y_train"
      ]
    },
    {
      "cell_type": "markdown",
      "metadata": {
        "id": "YeoUuHmzUh8C",
        "colab_type": "text"
      },
      "source": [
        "### Architecture"
      ]
    },
    {
      "cell_type": "code",
      "metadata": {
        "id": "8m8IEt7qUr0M",
        "colab_type": "code",
        "colab": {
          "base_uri": "https://localhost:8080/",
          "height": 35
        },
        "outputId": "60a21dc0-1fb6-4fa6-faff-c8d441a4ff6c"
      },
      "source": [
        "inp = Input(shape = (maxlen,))\n",
        "\n",
        "x = Embedding(vocab_size, 100, weights=[embedding_matrix], trainable=False)(inp)\n",
        "\n",
        "x = LSTM(50, return_sequences = True, dropout = 0.1, recurrent_dropout = 0.1)(x)\n",
        "\n",
        "x = GlobalMaxPool1D()(x)\n",
        "\n",
        "x = Dense(50, activation = \"relu\")(x)\n",
        "\n",
        "x = Dense(6, activation = \"sigmoid\")(x)\n",
        "\n",
        "model = Model(inputs = inp, outputs = x)\n",
        "\n",
        "model.compile(loss = 'binary_crossentropy', optimizer = 'adam', metrics = ['accuracy'])"
      ],
      "execution_count": 58,
      "outputs": [
        {
          "output_type": "stream",
          "text": [
            "WARNING:tensorflow:Layer lstm_2 will not use cuDNN kernel since it doesn't meet the cuDNN kernel criteria. It will use generic GPU kernel as fallback when running on GPU\n"
          ],
          "name": "stdout"
        }
      ]
    },
    {
      "cell_type": "markdown",
      "metadata": {
        "id": "_vfwXbPQUj-w",
        "colab_type": "text"
      },
      "source": [
        "### Model Summary"
      ]
    },
    {
      "cell_type": "code",
      "metadata": {
        "id": "ANeDNIrQVQjh",
        "colab_type": "code",
        "colab": {
          "base_uri": "https://localhost:8080/",
          "height": 372
        },
        "outputId": "a44d54a8-33c9-4758-e407-e1a786bf1caf"
      },
      "source": [
        "model.summary()"
      ],
      "execution_count": 59,
      "outputs": [
        {
          "output_type": "stream",
          "text": [
            "Model: \"model_2\"\n",
            "_________________________________________________________________\n",
            "Layer (type)                 Output Shape              Param #   \n",
            "=================================================================\n",
            "input_3 (InputLayer)         [(None, 100)]             0         \n",
            "_________________________________________________________________\n",
            "embedding_2 (Embedding)      (None, 100, 100)          79300     \n",
            "_________________________________________________________________\n",
            "lstm_2 (LSTM)                (None, 100, 50)           30200     \n",
            "_________________________________________________________________\n",
            "global_max_pooling1d (Global (None, 50)                0         \n",
            "_________________________________________________________________\n",
            "dense_4 (Dense)              (None, 50)                2550      \n",
            "_________________________________________________________________\n",
            "dense_5 (Dense)              (None, 6)                 306       \n",
            "=================================================================\n",
            "Total params: 112,356\n",
            "Trainable params: 33,056\n",
            "Non-trainable params: 79,300\n",
            "_________________________________________________________________\n"
          ],
          "name": "stdout"
        }
      ]
    },
    {
      "cell_type": "markdown",
      "metadata": {
        "id": "KftNLn-MUoI1",
        "colab_type": "text"
      },
      "source": [
        "### Fitting and Saving the BEST Model Weights"
      ]
    },
    {
      "cell_type": "code",
      "metadata": {
        "id": "qrLA9LsIVYeZ",
        "colab_type": "code",
        "colab": {
          "base_uri": "https://localhost:8080/",
          "height": 746
        },
        "outputId": "8dc7bca7-d128-4574-9439-b091c72f19bb"
      },
      "source": [
        "batch_size = 256\n",
        "epochs = 10\n",
        "\n",
        "file_path = \"/content/drive/My Drive/Colab Notebooks/NLP - Sem 6/Project/Models/nn4.hdf5\"\n",
        "checkpoint = ModelCheckpoint(file_path, monitor ='val_loss', verbose = 1, save_best_only = True, mode = 'min')\n",
        "\n",
        "early = EarlyStopping(monitor = \"val_loss\", mode = \"min\", patience = 20)\n",
        "\n",
        "callbacks_list = [checkpoint, early]\n",
        "\n",
        "model.fit(X_train, Y_train, batch_size = batch_size, epochs = epochs, validation_data = (X_test, Y_test), callbacks = callbacks_list, verbose = 1) "
      ],
      "execution_count": 60,
      "outputs": [
        {
          "output_type": "stream",
          "text": [
            "Epoch 1/10\n",
            "324/324 [==============================] - ETA: 0s - loss: 0.1795 - accuracy: 0.8768\n",
            "Epoch 00001: val_loss improved from inf to 1.37647, saving model to /content/drive/My Drive/Colab Notebooks/NLP - Sem 6/Project/Models/nn4.hdf5\n",
            "324/324 [==============================] - 107s 331ms/step - loss: 0.1795 - accuracy: 0.8768 - val_loss: 1.3765 - val_accuracy: 0.9286\n",
            "Epoch 2/10\n",
            "324/324 [==============================] - ETA: 0s - loss: 0.1032 - accuracy: 0.9935\n",
            "Epoch 00002: val_loss improved from 1.37647 to 1.10825, saving model to /content/drive/My Drive/Colab Notebooks/NLP - Sem 6/Project/Models/nn4.hdf5\n",
            "324/324 [==============================] - 106s 327ms/step - loss: 0.1032 - accuracy: 0.9935 - val_loss: 1.1083 - val_accuracy: 0.8571\n",
            "Epoch 3/10\n",
            "324/324 [==============================] - ETA: 0s - loss: 0.0891 - accuracy: 0.9896\n",
            "Epoch 00003: val_loss improved from 1.10825 to 0.97538, saving model to /content/drive/My Drive/Colab Notebooks/NLP - Sem 6/Project/Models/nn4.hdf5\n",
            "324/324 [==============================] - 105s 324ms/step - loss: 0.0891 - accuracy: 0.9896 - val_loss: 0.9754 - val_accuracy: 0.9000\n",
            "Epoch 4/10\n",
            "324/324 [==============================] - ETA: 0s - loss: 0.0854 - accuracy: 0.9939\n",
            "Epoch 00004: val_loss improved from 0.97538 to 0.95859, saving model to /content/drive/My Drive/Colab Notebooks/NLP - Sem 6/Project/Models/nn4.hdf5\n",
            "324/324 [==============================] - 105s 325ms/step - loss: 0.0854 - accuracy: 0.9939 - val_loss: 0.9586 - val_accuracy: 0.9000\n",
            "Epoch 5/10\n",
            "324/324 [==============================] - ETA: 0s - loss: 0.0833 - accuracy: 0.9942\n",
            "Epoch 00005: val_loss improved from 0.95859 to 0.93468, saving model to /content/drive/My Drive/Colab Notebooks/NLP - Sem 6/Project/Models/nn4.hdf5\n",
            "324/324 [==============================] - 106s 327ms/step - loss: 0.0833 - accuracy: 0.9942 - val_loss: 0.9347 - val_accuracy: 0.9286\n",
            "Epoch 6/10\n",
            "324/324 [==============================] - ETA: 0s - loss: 0.0807 - accuracy: 0.9946\n",
            "Epoch 00006: val_loss did not improve from 0.93468\n",
            "324/324 [==============================] - 107s 329ms/step - loss: 0.0807 - accuracy: 0.9946 - val_loss: 0.9839 - val_accuracy: 0.9286\n",
            "Epoch 7/10\n",
            "324/324 [==============================] - ETA: 0s - loss: 0.0771 - accuracy: 0.9943\n",
            "Epoch 00007: val_loss improved from 0.93468 to 0.85943, saving model to /content/drive/My Drive/Colab Notebooks/NLP - Sem 6/Project/Models/nn4.hdf5\n",
            "324/324 [==============================] - 107s 329ms/step - loss: 0.0771 - accuracy: 0.9943 - val_loss: 0.8594 - val_accuracy: 0.9286\n",
            "Epoch 8/10\n",
            "324/324 [==============================] - ETA: 0s - loss: 0.0738 - accuracy: 0.9947\n",
            "Epoch 00008: val_loss did not improve from 0.85943\n",
            "324/324 [==============================] - 107s 330ms/step - loss: 0.0738 - accuracy: 0.9947 - val_loss: 0.9321 - val_accuracy: 0.9143\n",
            "Epoch 9/10\n",
            "324/324 [==============================] - ETA: 0s - loss: 0.0711 - accuracy: 0.9947\n",
            "Epoch 00009: val_loss improved from 0.85943 to 0.83895, saving model to /content/drive/My Drive/Colab Notebooks/NLP - Sem 6/Project/Models/nn4.hdf5\n",
            "324/324 [==============================] - 107s 330ms/step - loss: 0.0711 - accuracy: 0.9947 - val_loss: 0.8390 - val_accuracy: 0.9286\n",
            "Epoch 10/10\n",
            "324/324 [==============================] - ETA: 0s - loss: 0.0693 - accuracy: 0.9948\n",
            "Epoch 00010: val_loss improved from 0.83895 to 0.78486, saving model to /content/drive/My Drive/Colab Notebooks/NLP - Sem 6/Project/Models/nn4.hdf5\n",
            "324/324 [==============================] - 106s 327ms/step - loss: 0.0693 - accuracy: 0.9948 - val_loss: 0.7849 - val_accuracy: 0.9286\n"
          ],
          "name": "stdout"
        },
        {
          "output_type": "execute_result",
          "data": {
            "text/plain": [
              "<tensorflow.python.keras.callbacks.History at 0x7fa3b7caffd0>"
            ]
          },
          "metadata": {
            "tags": []
          },
          "execution_count": 60
        }
      ]
    },
    {
      "cell_type": "markdown",
      "metadata": {
        "id": "kpp6FpPsb3v3",
        "colab_type": "text"
      },
      "source": [
        "### Calculating F1 Score for this neural network model"
      ]
    },
    {
      "cell_type": "code",
      "metadata": {
        "id": "9QtcxeNsb9Ss",
        "colab_type": "code",
        "colab": {
          "base_uri": "https://localhost:8080/",
          "height": 88
        },
        "outputId": "a97049cd-9325-4b2c-f7a5-7256628831c1"
      },
      "source": [
        "model = load_model(r\"/content/drive/My Drive/Colab Notebooks/NLP - Sem 6/Project/Models/nn4.hdf5\")\n",
        "y_pred = model.predict(X_test, verbose = 1)\n",
        "\n",
        "outer_list = []\n",
        "\n",
        "for y in y_pred:\n",
        "  \n",
        "  inner_list = []\n",
        "\n",
        "  for i in y:\n",
        "\n",
        "    if i >= 0.5:\n",
        "      inner_list.append(1)\n",
        "\n",
        "    else:\n",
        "      inner_list.append(0)\n",
        "\n",
        "  outer_list.append(inner_list)\n",
        "\n",
        "y_pred = pd.DataFrame.from_records(outer_list)\n",
        "y_pred.columns = [\"toxic\", \"severe_toxic\", \"obscene\", \"threat\", \"insult\", \"identity_hate\"]\n",
        "y_pred.shape"
      ],
      "execution_count": 61,
      "outputs": [
        {
          "output_type": "stream",
          "text": [
            "WARNING:tensorflow:Layer lstm_2 will not use cuDNN kernel since it doesn't meet the cuDNN kernel criteria. It will use generic GPU kernel as fallback when running on GPU\n",
            "WARNING:tensorflow:Error in loading the saved optimizer state. As a result, your model is starting with a freshly initialized optimizer.\n",
            "3/3 [==============================] - 0s 17ms/step\n"
          ],
          "name": "stdout"
        },
        {
          "output_type": "execute_result",
          "data": {
            "text/plain": [
              "(70, 6)"
            ]
          },
          "metadata": {
            "tags": []
          },
          "execution_count": 61
        }
      ]
    },
    {
      "cell_type": "code",
      "metadata": {
        "id": "IXWtMT_mcLG3",
        "colab_type": "code",
        "colab": {
          "base_uri": "https://localhost:8080/",
          "height": 284
        },
        "outputId": "78a8fb0f-4164-40d5-d43b-a5ff488d58fc"
      },
      "source": [
        "print(\"F1 score = \" + str(f1_score(Y_test, y_pred, average = 'samples')))\n",
        "print(classification_report(Y_test, y_pred))"
      ],
      "execution_count": 72,
      "outputs": [
        {
          "output_type": "stream",
          "text": [
            "F1 score = 0.4672108843537415\n",
            "              precision    recall  f1-score   support\n",
            "\n",
            "           0       0.98      0.80      0.88        55\n",
            "           1       0.57      0.36      0.44        11\n",
            "           2       0.89      0.65      0.75        48\n",
            "           3       0.00      0.00      0.00        24\n",
            "           4       0.97      0.66      0.78        44\n",
            "           5       0.00      0.00      0.00        26\n",
            "\n",
            "   micro avg       0.92      0.52      0.66       208\n",
            "   macro avg       0.57      0.41      0.48       208\n",
            "weighted avg       0.70      0.52      0.59       208\n",
            " samples avg       0.60      0.42      0.47       208\n",
            "\n"
          ],
          "name": "stdout"
        }
      ]
    },
    {
      "cell_type": "markdown",
      "metadata": {
        "id": "1yYROMrnDH6K",
        "colab_type": "text"
      },
      "source": [
        "# Summary of all the models:\n",
        "\n",
        "\n",
        "\n",
        "---\n",
        "> **Using GloVe Embeddings**\n",
        "\n",
        "There are 2 models which uses GloVe Embeddings:\n",
        "\n",
        "1. Neural Network - ***Type 0***\n",
        "\n",
        "*   It uses 6 one-hot-encoded columns which forms the Y_train and Y_test. \n",
        "*   These columns are [\"toxic\", \"severe_toxic\", \"obscene\", \"threat\", \"insult\", \"identity_hate\"]\n",
        "* The best training and validation accuracy is given by:\n",
        "\n",
        "**loss: 0.0737 - accuracy: 0.9935 - val_loss: 0.3127 - val_accuracy: 0.9900**\n",
        "\n",
        "2. Neural Network - ***Type 2***\n",
        "\n",
        "*   It uses 2 one-hot-encoded columns which forms the Y_train and Y_test. \n",
        "*   These columns are [\"positive\", \"negative\"]\n",
        "* The best training and validation accuracy is given by:\n",
        "\n",
        "**loss: 0.1802 - accuracy: 0.9447 - val_loss: 0.5740 - val_accuracy: 0.7800**\n",
        "\n",
        "\n",
        "\n",
        "---\n",
        "> **Without GloVe Embeddings**\n",
        "\n",
        "There are 2 models which uses keras.layers.Embedding (without GloVe Embedding)\n",
        "\n",
        "1. Neural Network - ***Type 1***\n",
        "\n",
        "*   It uses 6 one-hot-encoded columns which forms the Y_train and Y_test. \n",
        "*   These columns are [\"toxic\", \"severe_toxic\", \"obscene\", \"threat\", \"insult\", \"identity_hate\"]\n",
        "* The best training and validation accuracy is given by:\n",
        "\n",
        "**loss: 0.0730 - accuracy: 0.9948 - val_loss: 0.3138 - val_accuracy: 0.9900**\n",
        "\n",
        "2. Neural Network - ***Type 3***\n",
        "\n",
        "*   It uses 2 one-hot-encoded columns which forms the Y_train and Y_test. \n",
        "*   These columns are [\"positive\", \"negative\"]\n",
        "* The best training and validation accuracy is given by:\n",
        "\n",
        "**loss: 0.1434 - accuracy: 0.9552 - val_loss: 0.5210 - val_accuracy: 0.8300**\n"
      ]
    },
    {
      "cell_type": "markdown",
      "metadata": {
        "id": "gdvfBatzClK2",
        "colab_type": "text"
      },
      "source": [
        "# --------------------- THE END ---------------------"
      ]
    }
  ]
}