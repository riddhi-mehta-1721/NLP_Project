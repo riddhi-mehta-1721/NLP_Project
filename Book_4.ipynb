{
  "nbformat": 4,
  "nbformat_minor": 0,
  "metadata": {
    "colab": {
      "name": "Book_4.ipynb",
      "provenance": [],
      "collapsed_sections": [],
      "authorship_tag": "ABX9TyPQpsk3CKBI9x29aywYnLR3",
      "include_colab_link": true
    },
    "kernelspec": {
      "name": "python3",
      "display_name": "Python 3"
    },
    "accelerator": "GPU"
  },
  "cells": [
    {
      "cell_type": "markdown",
      "metadata": {
        "id": "view-in-github",
        "colab_type": "text"
      },
      "source": [
        "<a href=\"https://colab.research.google.com/github/riddhi-mehta-1721/NLP_Project/blob/master/Book_4.ipynb\" target=\"_parent\"><img src=\"https://colab.research.google.com/assets/colab-badge.svg\" alt=\"Open In Colab\"/></a>"
      ]
    },
    {
      "cell_type": "markdown",
      "metadata": {
        "id": "kw235J8G6mVo",
        "colab_type": "text"
      },
      "source": [
        "# NLP PROJECT\n",
        "\n",
        "## RIDDHI MEHTA - J030\n",
        "## HUSAIN GHADIALI - J056"
      ]
    },
    {
      "cell_type": "markdown",
      "metadata": {
        "id": "ODYFD7qIH5Mt",
        "colab_type": "text"
      },
      "source": [
        "# Importing Libraries"
      ]
    },
    {
      "cell_type": "code",
      "metadata": {
        "id": "nfx_aOyyHeFd",
        "colab_type": "code",
        "colab": {
          "base_uri": "https://localhost:8080/",
          "height": 124
        },
        "outputId": "edee2d61-18df-456a-ac23-3c4ff5bcfd29"
      },
      "source": [
        "import pandas as pd\n",
        "import numpy as np\n",
        "\n",
        "import re\n",
        "import pickle\n",
        "import json\n",
        "import io\n",
        "\n",
        "from io import StringIO\n",
        "\n",
        "import seaborn as sns\n",
        "import matplotlib.pyplot as plt\n",
        "\n",
        "import pydotplus\n",
        "import pydot\n",
        "\n",
        "import nltk\n",
        "from nltk import word_tokenize\n",
        "from nltk.corpus import stopwords\n",
        "from nltk.tokenize import word_tokenize\n",
        "\n",
        "from sklearn.feature_extraction.text import TfidfVectorizer\n",
        "from sklearn.ensemble import RandomForestClassifier\n",
        "from sklearn.multioutput import MultiOutputClassifier\n",
        "from sklearn.model_selection import train_test_split\n",
        "from sklearn.naive_bayes import MultinomialNB\n",
        "from sklearn.metrics import accuracy_score\n",
        "from sklearn.multiclass import OneVsRestClassifier\n",
        "from sklearn.preprocessing import StandardScaler\n",
        "from sklearn.pipeline import Pipeline\n",
        "\n",
        "\n",
        "from tensorflow.python.keras.layers import Dense, Embedding, Input, LSTM, Bidirectional, GlobalMaxPool1D, Dropout, Conv1D, MaxPooling1D, GRU\n",
        "from tensorflow.python.keras import Sequential\n",
        "from tensorflow.python.keras.models import Model, load_model\n",
        "from tensorflow.python.keras.callbacks import EarlyStopping, ModelCheckpoint\n",
        "\n",
        "import keras\n",
        "from keras.preprocessing.text import Tokenizer\n",
        "from keras.preprocessing.text import tokenizer_from_json\n",
        "from keras.preprocessing.sequence import pad_sequences\n",
        "# from keras.models import Model\n",
        "# from keras.layers import Dense, Embedding, Input, LSTM, Bidirectional, GlobalMaxPool1D, Dropout\n",
        "# from keras.callbacks import EarlyStopping, ModelCheckpoint\n",
        "from keras.utils import plot_model  \n",
        "from keras.utils.vis_utils import model_to_dot\n",
        "\n",
        "nltk.download('punkt')\n",
        "nltk.download('wordnet')\n",
        "nltk.download('stopwords')\n",
        "\n",
        "import warnings\n",
        "warnings.filterwarnings(\"ignore\")\n",
        "\n",
        "import random"
      ],
      "execution_count": 12,
      "outputs": [
        {
          "output_type": "stream",
          "text": [
            "[nltk_data] Downloading package punkt to /root/nltk_data...\n",
            "[nltk_data]   Package punkt is already up-to-date!\n",
            "[nltk_data] Downloading package wordnet to /root/nltk_data...\n",
            "[nltk_data]   Package wordnet is already up-to-date!\n",
            "[nltk_data] Downloading package stopwords to /root/nltk_data...\n",
            "[nltk_data]   Package stopwords is already up-to-date!\n"
          ],
          "name": "stdout"
        }
      ]
    },
    {
      "cell_type": "markdown",
      "metadata": {
        "id": "p5ul8qvUIR-S",
        "colab_type": "text"
      },
      "source": [
        "# Mounting Drive"
      ]
    },
    {
      "cell_type": "code",
      "metadata": {
        "id": "jXC3B4xqILSf",
        "colab_type": "code",
        "colab": {
          "base_uri": "https://localhost:8080/",
          "height": 126
        },
        "outputId": "ad377360-17b2-4959-e609-e68de583f209"
      },
      "source": [
        "from google.colab import drive\n",
        "drive.mount('/content/drive')"
      ],
      "execution_count": 2,
      "outputs": [
        {
          "output_type": "stream",
          "text": [
            "Go to this URL in a browser: https://accounts.google.com/o/oauth2/auth?client_id=947318989803-6bn6qk8qdgf4n4g3pfee6491hc0brc4i.apps.googleusercontent.com&redirect_uri=urn%3aietf%3awg%3aoauth%3a2.0%3aoob&response_type=code&scope=email%20https%3a%2f%2fwww.googleapis.com%2fauth%2fdocs.test%20https%3a%2f%2fwww.googleapis.com%2fauth%2fdrive%20https%3a%2f%2fwww.googleapis.com%2fauth%2fdrive.photos.readonly%20https%3a%2f%2fwww.googleapis.com%2fauth%2fpeopleapi.readonly\n",
            "\n",
            "Enter your authorization code:\n",
            "··········\n",
            "Mounted at /content/drive\n"
          ],
          "name": "stdout"
        }
      ]
    },
    {
      "cell_type": "markdown",
      "metadata": {
        "id": "l1-oFm-kubrt",
        "colab_type": "text"
      },
      "source": [
        "# Predicting on Kaggle Test Dataset"
      ]
    },
    {
      "cell_type": "code",
      "metadata": {
        "id": "3zBJKQ5SS_Ky",
        "colab_type": "code",
        "colab": {}
      },
      "source": [
        "def preprocess(sentence):\n",
        "\n",
        "  text = sentence\n",
        "  text = text.lower()\n",
        "  text = re.sub(r\"what's\", \"what is \", text)\n",
        "  text = re.sub(r\"\\'s\", \" \", text)\n",
        "  text = re.sub(r\"\\'ve\", \" have \", text)\n",
        "  text = re.sub(r\"can't\", \"cannot \", text)\n",
        "  text = re.sub(r\"n't\", \" not \", text)\n",
        "  text = re.sub(r\"i'm\", \"i am \", text)\n",
        "  text = re.sub(r\"\\'re\", \" are \", text)\n",
        "  text = re.sub(r\"\\'d\", \" would \", text)\n",
        "  text = re.sub(r\"\\'ll\", \" will \", text)\n",
        "  text = re.sub(r\"\\'scuse\", \" excuse \", text)\n",
        "  text = re.sub('\\W', ' ', text) # substitutes non word character with a space\n",
        "  text = re.sub('\\s+', ' ', text)\n",
        "  text = text.strip(' ')\n",
        "  text = re.sub(r\"[0-9]\",\" \",text) # substitutes numbers with a blank space\n",
        "  \n",
        "  my_tokens = list() # Initialising a list of tokens that will be formed\n",
        "  stop_words= set(stopwords.words('english')) # Extracting english stopwords from nltk corpus\n",
        "  \n",
        "  tokens = word_tokenize(text, preserve_line=False)\n",
        "\n",
        "  for token in tokens:\n",
        "    if (token not in stop_words):\n",
        "      my_tokens.append(token)\n",
        "\n",
        "  final = ' '.join([str(elem) for elem in my_tokens]) # makes it an entire string\n",
        "\n",
        "  return final"
      ],
      "execution_count": 0,
      "outputs": []
    },
    {
      "cell_type": "code",
      "metadata": {
        "id": "p873euJIunl6",
        "colab_type": "code",
        "colab": {}
      },
      "source": [
        "k_test = pd.read_csv(r'/content/drive/My Drive/Colab Notebooks/NLP - Sem 6/Project/Datasets/kaggle_test.csv', \n",
        "                  dtype = {'id' : str, 'comment_text': str}   )"
      ],
      "execution_count": 0,
      "outputs": []
    },
    {
      "cell_type": "code",
      "metadata": {
        "id": "TnitYkqmvJyC",
        "colab_type": "code",
        "colab": {
          "base_uri": "https://localhost:8080/",
          "height": 200
        },
        "outputId": "fa1bed8c-3f22-4f10-b240-91699b9cfb9f"
      },
      "source": [
        "k_test.head()"
      ],
      "execution_count": 14,
      "outputs": [
        {
          "output_type": "execute_result",
          "data": {
            "text/html": [
              "<div>\n",
              "<style scoped>\n",
              "    .dataframe tbody tr th:only-of-type {\n",
              "        vertical-align: middle;\n",
              "    }\n",
              "\n",
              "    .dataframe tbody tr th {\n",
              "        vertical-align: top;\n",
              "    }\n",
              "\n",
              "    .dataframe thead th {\n",
              "        text-align: right;\n",
              "    }\n",
              "</style>\n",
              "<table border=\"1\" class=\"dataframe\">\n",
              "  <thead>\n",
              "    <tr style=\"text-align: right;\">\n",
              "      <th></th>\n",
              "      <th>id</th>\n",
              "      <th>comment_text</th>\n",
              "    </tr>\n",
              "  </thead>\n",
              "  <tbody>\n",
              "    <tr>\n",
              "      <th>0</th>\n",
              "      <td>00001cee341fdb12</td>\n",
              "      <td>Yo bitch Ja Rule is more succesful then you'll...</td>\n",
              "    </tr>\n",
              "    <tr>\n",
              "      <th>1</th>\n",
              "      <td>0000247867823ef7</td>\n",
              "      <td>== From RfC == \\n\\n The title is fine as it is...</td>\n",
              "    </tr>\n",
              "    <tr>\n",
              "      <th>2</th>\n",
              "      <td>00013b17ad220c46</td>\n",
              "      <td>\" \\n\\n == Sources == \\n\\n * Zawe Ashton on Lap...</td>\n",
              "    </tr>\n",
              "    <tr>\n",
              "      <th>3</th>\n",
              "      <td>00017563c3f7919a</td>\n",
              "      <td>:If you have a look back at the source, the in...</td>\n",
              "    </tr>\n",
              "    <tr>\n",
              "      <th>4</th>\n",
              "      <td>00017695ad8997eb</td>\n",
              "      <td>I don't anonymously edit articles at all.</td>\n",
              "    </tr>\n",
              "  </tbody>\n",
              "</table>\n",
              "</div>"
            ],
            "text/plain": [
              "                 id                                       comment_text\n",
              "0  00001cee341fdb12  Yo bitch Ja Rule is more succesful then you'll...\n",
              "1  0000247867823ef7  == From RfC == \\n\\n The title is fine as it is...\n",
              "2  00013b17ad220c46  \" \\n\\n == Sources == \\n\\n * Zawe Ashton on Lap...\n",
              "3  00017563c3f7919a  :If you have a look back at the source, the in...\n",
              "4  00017695ad8997eb          I don't anonymously edit articles at all."
            ]
          },
          "metadata": {
            "tags": []
          },
          "execution_count": 14
        }
      ]
    },
    {
      "cell_type": "code",
      "metadata": {
        "id": "oEOFCa2yvLwe",
        "colab_type": "code",
        "colab": {}
      },
      "source": [
        "x_test = pd.DataFrame(k_test[\"comment_text\"])\n",
        "\n",
        "x_test[\"comment_text\"] = x_test[\"comment_text\"].apply(preprocess)"
      ],
      "execution_count": 0,
      "outputs": []
    },
    {
      "cell_type": "code",
      "metadata": {
        "id": "jseoz9DCTP1k",
        "colab_type": "code",
        "colab": {}
      },
      "source": [
        "train = pd.read_csv(r\"/content/drive/My Drive/Colab Notebooks/NLP - Sem 6/Project/Datasets/train.csv\")\n",
        "train.drop(columns = \"Unnamed: 0\", inplace = True)\n",
        "X_train = train[\"comment_text\"]\n",
        "\n",
        "max_features = 20000\n",
        "tokenizer = Tokenizer(num_words = max_features, char_level = True) \n",
        "tokenizer.fit_on_texts(list(X_train))"
      ],
      "execution_count": 0,
      "outputs": []
    },
    {
      "cell_type": "code",
      "metadata": {
        "id": "JuvnqGn5vad5",
        "colab_type": "code",
        "colab": {}
      },
      "source": [
        "test = x_test[\"comment_text\"]\n",
        "\n",
        "test = tokenizer.texts_to_sequences(test)  "
      ],
      "execution_count": 0,
      "outputs": []
    },
    {
      "cell_type": "code",
      "metadata": {
        "id": "hVpEDJmkvgeW",
        "colab_type": "code",
        "colab": {}
      },
      "source": [
        "maxlen = 100\n",
        "test = pad_sequences(test, maxlen = maxlen, padding = \"post\")"
      ],
      "execution_count": 0,
      "outputs": []
    },
    {
      "cell_type": "code",
      "metadata": {
        "id": "4fJgXtK5vqUI",
        "colab_type": "code",
        "colab": {
          "base_uri": "https://localhost:8080/",
          "height": 70
        },
        "outputId": "592e45bb-fb16-49a6-fbf9-573c2321db5c"
      },
      "source": [
        "model = load_model(r\"/content/drive/My Drive/Colab Notebooks/NLP - Sem 6/Project/Models/nn4.hdf5\")\n",
        "pred = model.predict(test, verbose = 1)"
      ],
      "execution_count": 19,
      "outputs": [
        {
          "output_type": "stream",
          "text": [
            "WARNING:tensorflow:Layer lstm_2 will not use cuDNN kernel since it doesn't meet the cuDNN kernel criteria. It will use generic GPU kernel as fallback when running on GPU\n",
            "WARNING:tensorflow:Error in loading the saved optimizer state. As a result, your model is starting with a freshly initialized optimizer.\n",
            "4787/4787 [==============================] - 140s 29ms/step\n"
          ],
          "name": "stdout"
        }
      ]
    },
    {
      "cell_type": "code",
      "metadata": {
        "id": "-lC-hwoAv_DR",
        "colab_type": "code",
        "colab": {
          "base_uri": "https://localhost:8080/",
          "height": 248
        },
        "outputId": "98ad73e1-a0ba-4d84-8a08-66aa6b9d8bad"
      },
      "source": [
        "pred"
      ],
      "execution_count": 20,
      "outputs": [
        {
          "output_type": "execute_result",
          "data": {
            "text/plain": [
              "array([[9.98230636e-01, 3.78732234e-01, 9.95744884e-01, 3.83478068e-02,\n",
              "        9.53207374e-01, 1.62006870e-01],\n",
              "       [8.34740877e-01, 2.08991636e-02, 1.68355972e-01, 1.38262389e-02,\n",
              "        2.54785955e-01, 5.29731847e-02],\n",
              "       [8.77261698e-01, 2.34035738e-02, 3.05176526e-01, 1.62008721e-02,\n",
              "        3.22717875e-01, 4.08973806e-02],\n",
              "       ...,\n",
              "       [3.47051546e-02, 6.06870803e-04, 7.28017464e-03, 1.09573384e-03,\n",
              "        1.23752151e-02, 2.59249192e-03],\n",
              "       [1.15491375e-02, 3.89082212e-04, 3.01267439e-03, 5.43617352e-04,\n",
              "        4.73518018e-03, 1.11420732e-03],\n",
              "       [7.42655277e-01, 1.16674146e-02, 4.91627991e-01, 8.05689022e-03,\n",
              "        3.80228251e-01, 1.68845709e-02]], dtype=float32)"
            ]
          },
          "metadata": {
            "tags": []
          },
          "execution_count": 20
        }
      ]
    },
    {
      "cell_type": "code",
      "metadata": {
        "id": "Q4AvjkhrwS8v",
        "colab_type": "code",
        "colab": {
          "base_uri": "https://localhost:8080/",
          "height": 35
        },
        "outputId": "9d057642-9160-4ba9-a23a-572580d2f571"
      },
      "source": [
        "df = pd.DataFrame.from_records(pred)\n",
        "df.columns = [\"toxic\",\"severe_toxic\", \"obscene\", \"threat\", \"insult\", \"identity_hate\"]\n",
        "df.shape"
      ],
      "execution_count": 21,
      "outputs": [
        {
          "output_type": "execute_result",
          "data": {
            "text/plain": [
              "(153164, 6)"
            ]
          },
          "metadata": {
            "tags": []
          },
          "execution_count": 21
        }
      ]
    },
    {
      "cell_type": "code",
      "metadata": {
        "id": "Lbo2SKklwW-j",
        "colab_type": "code",
        "colab": {
          "base_uri": "https://localhost:8080/",
          "height": 200
        },
        "outputId": "bbbb75e2-d82b-4b99-f77d-0dc72e87c62c"
      },
      "source": [
        "df.head()"
      ],
      "execution_count": 22,
      "outputs": [
        {
          "output_type": "execute_result",
          "data": {
            "text/html": [
              "<div>\n",
              "<style scoped>\n",
              "    .dataframe tbody tr th:only-of-type {\n",
              "        vertical-align: middle;\n",
              "    }\n",
              "\n",
              "    .dataframe tbody tr th {\n",
              "        vertical-align: top;\n",
              "    }\n",
              "\n",
              "    .dataframe thead th {\n",
              "        text-align: right;\n",
              "    }\n",
              "</style>\n",
              "<table border=\"1\" class=\"dataframe\">\n",
              "  <thead>\n",
              "    <tr style=\"text-align: right;\">\n",
              "      <th></th>\n",
              "      <th>toxic</th>\n",
              "      <th>severe_toxic</th>\n",
              "      <th>obscene</th>\n",
              "      <th>threat</th>\n",
              "      <th>insult</th>\n",
              "      <th>identity_hate</th>\n",
              "    </tr>\n",
              "  </thead>\n",
              "  <tbody>\n",
              "    <tr>\n",
              "      <th>0</th>\n",
              "      <td>0.998231</td>\n",
              "      <td>0.378732</td>\n",
              "      <td>0.995745</td>\n",
              "      <td>0.038348</td>\n",
              "      <td>0.953207</td>\n",
              "      <td>0.162007</td>\n",
              "    </tr>\n",
              "    <tr>\n",
              "      <th>1</th>\n",
              "      <td>0.834741</td>\n",
              "      <td>0.020899</td>\n",
              "      <td>0.168356</td>\n",
              "      <td>0.013826</td>\n",
              "      <td>0.254786</td>\n",
              "      <td>0.052973</td>\n",
              "    </tr>\n",
              "    <tr>\n",
              "      <th>2</th>\n",
              "      <td>0.877262</td>\n",
              "      <td>0.023404</td>\n",
              "      <td>0.305177</td>\n",
              "      <td>0.016201</td>\n",
              "      <td>0.322718</td>\n",
              "      <td>0.040897</td>\n",
              "    </tr>\n",
              "    <tr>\n",
              "      <th>3</th>\n",
              "      <td>0.007811</td>\n",
              "      <td>0.000280</td>\n",
              "      <td>0.001792</td>\n",
              "      <td>0.000366</td>\n",
              "      <td>0.002636</td>\n",
              "      <td>0.000558</td>\n",
              "    </tr>\n",
              "    <tr>\n",
              "      <th>4</th>\n",
              "      <td>0.755440</td>\n",
              "      <td>0.007590</td>\n",
              "      <td>0.099156</td>\n",
              "      <td>0.007321</td>\n",
              "      <td>0.156043</td>\n",
              "      <td>0.028790</td>\n",
              "    </tr>\n",
              "  </tbody>\n",
              "</table>\n",
              "</div>"
            ],
            "text/plain": [
              "      toxic  severe_toxic   obscene    threat    insult  identity_hate\n",
              "0  0.998231      0.378732  0.995745  0.038348  0.953207       0.162007\n",
              "1  0.834741      0.020899  0.168356  0.013826  0.254786       0.052973\n",
              "2  0.877262      0.023404  0.305177  0.016201  0.322718       0.040897\n",
              "3  0.007811      0.000280  0.001792  0.000366  0.002636       0.000558\n",
              "4  0.755440      0.007590  0.099156  0.007321  0.156043       0.028790"
            ]
          },
          "metadata": {
            "tags": []
          },
          "execution_count": 22
        }
      ]
    },
    {
      "cell_type": "code",
      "metadata": {
        "id": "AshhTf7nw0bQ",
        "colab_type": "code",
        "colab": {}
      },
      "source": [
        "outer_list = []\n",
        "for y in pred:\n",
        "  inner_list = []\n",
        "  for i in y:\n",
        "    if i >= 0.5:\n",
        "      inner_list.append(1)\n",
        "    else:\n",
        "      inner_list.append(0)\n",
        "  outer_list.append(inner_list)\n",
        "\n",
        "df = pd.DataFrame.from_records(outer_list)\n",
        "df.columns = [\"toxic\", \"severe_toxic\", \"obscene\", \"threat\", \"insult\", \"identity_hate\"]"
      ],
      "execution_count": 0,
      "outputs": []
    },
    {
      "cell_type": "code",
      "metadata": {
        "id": "VDbPsAawynFm",
        "colab_type": "code",
        "colab": {
          "base_uri": "https://localhost:8080/",
          "height": 200
        },
        "outputId": "4d25bcde-32ec-4ba9-866f-d23bbf5dc280"
      },
      "source": [
        "df.head()"
      ],
      "execution_count": 82,
      "outputs": [
        {
          "output_type": "execute_result",
          "data": {
            "text/html": [
              "<div>\n",
              "<style scoped>\n",
              "    .dataframe tbody tr th:only-of-type {\n",
              "        vertical-align: middle;\n",
              "    }\n",
              "\n",
              "    .dataframe tbody tr th {\n",
              "        vertical-align: top;\n",
              "    }\n",
              "\n",
              "    .dataframe thead th {\n",
              "        text-align: right;\n",
              "    }\n",
              "</style>\n",
              "<table border=\"1\" class=\"dataframe\">\n",
              "  <thead>\n",
              "    <tr style=\"text-align: right;\">\n",
              "      <th></th>\n",
              "      <th>toxic</th>\n",
              "      <th>severe_toxic</th>\n",
              "      <th>obscene</th>\n",
              "      <th>threat</th>\n",
              "      <th>insult</th>\n",
              "      <th>identity_hate</th>\n",
              "    </tr>\n",
              "  </thead>\n",
              "  <tbody>\n",
              "    <tr>\n",
              "      <th>0</th>\n",
              "      <td>1</td>\n",
              "      <td>0</td>\n",
              "      <td>1</td>\n",
              "      <td>0</td>\n",
              "      <td>1</td>\n",
              "      <td>0</td>\n",
              "    </tr>\n",
              "    <tr>\n",
              "      <th>1</th>\n",
              "      <td>1</td>\n",
              "      <td>0</td>\n",
              "      <td>0</td>\n",
              "      <td>0</td>\n",
              "      <td>0</td>\n",
              "      <td>0</td>\n",
              "    </tr>\n",
              "    <tr>\n",
              "      <th>2</th>\n",
              "      <td>1</td>\n",
              "      <td>0</td>\n",
              "      <td>0</td>\n",
              "      <td>0</td>\n",
              "      <td>0</td>\n",
              "      <td>0</td>\n",
              "    </tr>\n",
              "    <tr>\n",
              "      <th>3</th>\n",
              "      <td>0</td>\n",
              "      <td>0</td>\n",
              "      <td>0</td>\n",
              "      <td>0</td>\n",
              "      <td>0</td>\n",
              "      <td>0</td>\n",
              "    </tr>\n",
              "    <tr>\n",
              "      <th>4</th>\n",
              "      <td>1</td>\n",
              "      <td>0</td>\n",
              "      <td>0</td>\n",
              "      <td>0</td>\n",
              "      <td>0</td>\n",
              "      <td>0</td>\n",
              "    </tr>\n",
              "  </tbody>\n",
              "</table>\n",
              "</div>"
            ],
            "text/plain": [
              "   toxic  severe_toxic  obscene  threat  insult  identity_hate\n",
              "0      1             0        1       0       1              0\n",
              "1      1             0        0       0       0              0\n",
              "2      1             0        0       0       0              0\n",
              "3      0             0        0       0       0              0\n",
              "4      1             0        0       0       0              0"
            ]
          },
          "metadata": {
            "tags": []
          },
          "execution_count": 82
        }
      ]
    },
    {
      "cell_type": "code",
      "metadata": {
        "id": "s_XpJ8hwzBX7",
        "colab_type": "code",
        "colab": {}
      },
      "source": [
        "df = pd.concat([x_test[\"comment_text\"], df], axis = 1)"
      ],
      "execution_count": 0,
      "outputs": []
    },
    {
      "cell_type": "code",
      "metadata": {
        "id": "nLlqhMXvzFzh",
        "colab_type": "code",
        "colab": {
          "base_uri": "https://localhost:8080/",
          "height": 200
        },
        "outputId": "4501d7e0-2d79-4a95-d56f-715aa2505277"
      },
      "source": [
        "df.head()"
      ],
      "execution_count": 24,
      "outputs": [
        {
          "output_type": "execute_result",
          "data": {
            "text/html": [
              "<div>\n",
              "<style scoped>\n",
              "    .dataframe tbody tr th:only-of-type {\n",
              "        vertical-align: middle;\n",
              "    }\n",
              "\n",
              "    .dataframe tbody tr th {\n",
              "        vertical-align: top;\n",
              "    }\n",
              "\n",
              "    .dataframe thead th {\n",
              "        text-align: right;\n",
              "    }\n",
              "</style>\n",
              "<table border=\"1\" class=\"dataframe\">\n",
              "  <thead>\n",
              "    <tr style=\"text-align: right;\">\n",
              "      <th></th>\n",
              "      <th>comment_text</th>\n",
              "      <th>toxic</th>\n",
              "      <th>severe_toxic</th>\n",
              "      <th>obscene</th>\n",
              "      <th>threat</th>\n",
              "      <th>insult</th>\n",
              "      <th>identity_hate</th>\n",
              "    </tr>\n",
              "  </thead>\n",
              "  <tbody>\n",
              "    <tr>\n",
              "      <th>0</th>\n",
              "      <td>yo bitch ja rule succesful ever whats hating s...</td>\n",
              "      <td>0.998231</td>\n",
              "      <td>0.378732</td>\n",
              "      <td>0.995745</td>\n",
              "      <td>0.038348</td>\n",
              "      <td>0.953207</td>\n",
              "      <td>0.162007</td>\n",
              "    </tr>\n",
              "    <tr>\n",
              "      <th>1</th>\n",
              "      <td>rfc title fine imo</td>\n",
              "      <td>0.834741</td>\n",
              "      <td>0.020899</td>\n",
              "      <td>0.168356</td>\n",
              "      <td>0.013826</td>\n",
              "      <td>0.254786</td>\n",
              "      <td>0.052973</td>\n",
              "    </tr>\n",
              "    <tr>\n",
              "      <th>2</th>\n",
              "      <td>sources zawe ashton lapland</td>\n",
              "      <td>0.877262</td>\n",
              "      <td>0.023404</td>\n",
              "      <td>0.305177</td>\n",
              "      <td>0.016201</td>\n",
              "      <td>0.322718</td>\n",
              "      <td>0.040897</td>\n",
              "    </tr>\n",
              "    <tr>\n",
              "      <th>3</th>\n",
              "      <td>look back source information updated correct f...</td>\n",
              "      <td>0.007811</td>\n",
              "      <td>0.000280</td>\n",
              "      <td>0.001792</td>\n",
              "      <td>0.000366</td>\n",
              "      <td>0.002636</td>\n",
              "      <td>0.000558</td>\n",
              "    </tr>\n",
              "    <tr>\n",
              "      <th>4</th>\n",
              "      <td>anonymously edit articles</td>\n",
              "      <td>0.755440</td>\n",
              "      <td>0.007590</td>\n",
              "      <td>0.099156</td>\n",
              "      <td>0.007321</td>\n",
              "      <td>0.156043</td>\n",
              "      <td>0.028790</td>\n",
              "    </tr>\n",
              "  </tbody>\n",
              "</table>\n",
              "</div>"
            ],
            "text/plain": [
              "                                        comment_text  ...  identity_hate\n",
              "0  yo bitch ja rule succesful ever whats hating s...  ...       0.162007\n",
              "1                                 rfc title fine imo  ...       0.052973\n",
              "2                        sources zawe ashton lapland  ...       0.040897\n",
              "3  look back source information updated correct f...  ...       0.000558\n",
              "4                          anonymously edit articles  ...       0.028790\n",
              "\n",
              "[5 rows x 7 columns]"
            ]
          },
          "metadata": {
            "tags": []
          },
          "execution_count": 24
        }
      ]
    },
    {
      "cell_type": "code",
      "metadata": {
        "id": "Rfj2DF3PzMho",
        "colab_type": "code",
        "colab": {
          "base_uri": "https://localhost:8080/",
          "height": 411
        },
        "outputId": "e256f315-c922-4630-ca57-8e679138afc8"
      },
      "source": [
        "df[(df.toxic == 0) & (df.severe_toxic == 0)]"
      ],
      "execution_count": 88,
      "outputs": [
        {
          "output_type": "execute_result",
          "data": {
            "text/html": [
              "<div>\n",
              "<style scoped>\n",
              "    .dataframe tbody tr th:only-of-type {\n",
              "        vertical-align: middle;\n",
              "    }\n",
              "\n",
              "    .dataframe tbody tr th {\n",
              "        vertical-align: top;\n",
              "    }\n",
              "\n",
              "    .dataframe thead th {\n",
              "        text-align: right;\n",
              "    }\n",
              "</style>\n",
              "<table border=\"1\" class=\"dataframe\">\n",
              "  <thead>\n",
              "    <tr style=\"text-align: right;\">\n",
              "      <th></th>\n",
              "      <th>comment_text</th>\n",
              "      <th>toxic</th>\n",
              "      <th>severe_toxic</th>\n",
              "      <th>obscene</th>\n",
              "      <th>threat</th>\n",
              "      <th>insult</th>\n",
              "      <th>identity_hate</th>\n",
              "    </tr>\n",
              "  </thead>\n",
              "  <tbody>\n",
              "    <tr>\n",
              "      <th>3</th>\n",
              "      <td>look back source information updated correct f...</td>\n",
              "      <td>0</td>\n",
              "      <td>0</td>\n",
              "      <td>0</td>\n",
              "      <td>0</td>\n",
              "      <td>0</td>\n",
              "      <td>0</td>\n",
              "    </tr>\n",
              "    <tr>\n",
              "      <th>5</th>\n",
              "      <td>thank understanding think highly would revert ...</td>\n",
              "      <td>0</td>\n",
              "      <td>0</td>\n",
              "      <td>0</td>\n",
              "      <td>0</td>\n",
              "      <td>0</td>\n",
              "      <td>0</td>\n",
              "    </tr>\n",
              "    <tr>\n",
              "      <th>6</th>\n",
              "      <td>please add nonsense wikipedia edits considered...</td>\n",
              "      <td>0</td>\n",
              "      <td>0</td>\n",
              "      <td>0</td>\n",
              "      <td>0</td>\n",
              "      <td>0</td>\n",
              "      <td>0</td>\n",
              "    </tr>\n",
              "    <tr>\n",
              "      <th>8</th>\n",
              "      <td>fool believe numbers correct number lies ponde...</td>\n",
              "      <td>0</td>\n",
              "      <td>0</td>\n",
              "      <td>0</td>\n",
              "      <td>0</td>\n",
              "      <td>0</td>\n",
              "      <td>0</td>\n",
              "    </tr>\n",
              "    <tr>\n",
              "      <th>9</th>\n",
              "      <td>double redirects fixing double redirects blank...</td>\n",
              "      <td>0</td>\n",
              "      <td>0</td>\n",
              "      <td>0</td>\n",
              "      <td>0</td>\n",
              "      <td>0</td>\n",
              "      <td>0</td>\n",
              "    </tr>\n",
              "    <tr>\n",
              "      <th>...</th>\n",
              "      <td>...</td>\n",
              "      <td>...</td>\n",
              "      <td>...</td>\n",
              "      <td>...</td>\n",
              "      <td>...</td>\n",
              "      <td>...</td>\n",
              "      <td>...</td>\n",
              "    </tr>\n",
              "    <tr>\n",
              "      <th>153157</th>\n",
              "      <td>disagree soviet railways need article administ...</td>\n",
              "      <td>0</td>\n",
              "      <td>0</td>\n",
              "      <td>0</td>\n",
              "      <td>0</td>\n",
              "      <td>0</td>\n",
              "      <td>0</td>\n",
              "    </tr>\n",
              "    <tr>\n",
              "      <th>153160</th>\n",
              "      <td>throw field home plate get faster throwing cut...</td>\n",
              "      <td>0</td>\n",
              "      <td>0</td>\n",
              "      <td>0</td>\n",
              "      <td>0</td>\n",
              "      <td>0</td>\n",
              "      <td>0</td>\n",
              "    </tr>\n",
              "    <tr>\n",
              "      <th>153161</th>\n",
              "      <td>okinotorishima categories see changes agree co...</td>\n",
              "      <td>0</td>\n",
              "      <td>0</td>\n",
              "      <td>0</td>\n",
              "      <td>0</td>\n",
              "      <td>0</td>\n",
              "      <td>0</td>\n",
              "    </tr>\n",
              "    <tr>\n",
              "      <th>153162</th>\n",
              "      <td>one founding nations eu germany law return qui...</td>\n",
              "      <td>0</td>\n",
              "      <td>0</td>\n",
              "      <td>0</td>\n",
              "      <td>0</td>\n",
              "      <td>0</td>\n",
              "      <td>0</td>\n",
              "    </tr>\n",
              "    <tr>\n",
              "      <th>153163</th>\n",
              "      <td>stop already bullshit welcome fool think kind ...</td>\n",
              "      <td>0</td>\n",
              "      <td>0</td>\n",
              "      <td>0</td>\n",
              "      <td>0</td>\n",
              "      <td>0</td>\n",
              "      <td>0</td>\n",
              "    </tr>\n",
              "  </tbody>\n",
              "</table>\n",
              "<p>103603 rows × 7 columns</p>\n",
              "</div>"
            ],
            "text/plain": [
              "                                             comment_text  ...  identity_hate\n",
              "3       look back source information updated correct f...  ...              0\n",
              "5       thank understanding think highly would revert ...  ...              0\n",
              "6       please add nonsense wikipedia edits considered...  ...              0\n",
              "8       fool believe numbers correct number lies ponde...  ...              0\n",
              "9       double redirects fixing double redirects blank...  ...              0\n",
              "...                                                   ...  ...            ...\n",
              "153157  disagree soviet railways need article administ...  ...              0\n",
              "153160  throw field home plate get faster throwing cut...  ...              0\n",
              "153161  okinotorishima categories see changes agree co...  ...              0\n",
              "153162  one founding nations eu germany law return qui...  ...              0\n",
              "153163  stop already bullshit welcome fool think kind ...  ...              0\n",
              "\n",
              "[103603 rows x 7 columns]"
            ]
          },
          "metadata": {
            "tags": []
          },
          "execution_count": 88
        }
      ]
    },
    {
      "cell_type": "markdown",
      "metadata": {
        "id": "_m8pwmpEHVPI",
        "colab_type": "text"
      },
      "source": [
        "# Making data ready for submission"
      ]
    },
    {
      "cell_type": "code",
      "metadata": {
        "id": "wXXpJW22zSpu",
        "colab_type": "code",
        "colab": {}
      },
      "source": [
        "sample_submission = pd.read_csv(r\"/content/drive/My Drive/Colab Notebooks/NLP - Sem 6/Project/Datasets/sample_submission.csv\", \n",
        "                                dtype = {'id': str, 'comment_text':str})"
      ],
      "execution_count": 0,
      "outputs": []
    },
    {
      "cell_type": "code",
      "metadata": {
        "id": "2qiIh4zr8ACY",
        "colab_type": "code",
        "colab": {
          "base_uri": "https://localhost:8080/",
          "height": 200
        },
        "outputId": "d3e47bba-31cd-4271-8ef7-15d59e201bf1"
      },
      "source": [
        "sample_submission.head()"
      ],
      "execution_count": 26,
      "outputs": [
        {
          "output_type": "execute_result",
          "data": {
            "text/html": [
              "<div>\n",
              "<style scoped>\n",
              "    .dataframe tbody tr th:only-of-type {\n",
              "        vertical-align: middle;\n",
              "    }\n",
              "\n",
              "    .dataframe tbody tr th {\n",
              "        vertical-align: top;\n",
              "    }\n",
              "\n",
              "    .dataframe thead th {\n",
              "        text-align: right;\n",
              "    }\n",
              "</style>\n",
              "<table border=\"1\" class=\"dataframe\">\n",
              "  <thead>\n",
              "    <tr style=\"text-align: right;\">\n",
              "      <th></th>\n",
              "      <th>id</th>\n",
              "      <th>toxic</th>\n",
              "      <th>severe_toxic</th>\n",
              "      <th>obscene</th>\n",
              "      <th>threat</th>\n",
              "      <th>insult</th>\n",
              "      <th>identity_hate</th>\n",
              "    </tr>\n",
              "  </thead>\n",
              "  <tbody>\n",
              "    <tr>\n",
              "      <th>0</th>\n",
              "      <td>00001cee341fdb12</td>\n",
              "      <td>0.5</td>\n",
              "      <td>0.5</td>\n",
              "      <td>0.5</td>\n",
              "      <td>0.5</td>\n",
              "      <td>0.5</td>\n",
              "      <td>0.5</td>\n",
              "    </tr>\n",
              "    <tr>\n",
              "      <th>1</th>\n",
              "      <td>0000247867823ef7</td>\n",
              "      <td>0.5</td>\n",
              "      <td>0.5</td>\n",
              "      <td>0.5</td>\n",
              "      <td>0.5</td>\n",
              "      <td>0.5</td>\n",
              "      <td>0.5</td>\n",
              "    </tr>\n",
              "    <tr>\n",
              "      <th>2</th>\n",
              "      <td>00013b17ad220c46</td>\n",
              "      <td>0.5</td>\n",
              "      <td>0.5</td>\n",
              "      <td>0.5</td>\n",
              "      <td>0.5</td>\n",
              "      <td>0.5</td>\n",
              "      <td>0.5</td>\n",
              "    </tr>\n",
              "    <tr>\n",
              "      <th>3</th>\n",
              "      <td>00017563c3f7919a</td>\n",
              "      <td>0.5</td>\n",
              "      <td>0.5</td>\n",
              "      <td>0.5</td>\n",
              "      <td>0.5</td>\n",
              "      <td>0.5</td>\n",
              "      <td>0.5</td>\n",
              "    </tr>\n",
              "    <tr>\n",
              "      <th>4</th>\n",
              "      <td>00017695ad8997eb</td>\n",
              "      <td>0.5</td>\n",
              "      <td>0.5</td>\n",
              "      <td>0.5</td>\n",
              "      <td>0.5</td>\n",
              "      <td>0.5</td>\n",
              "      <td>0.5</td>\n",
              "    </tr>\n",
              "  </tbody>\n",
              "</table>\n",
              "</div>"
            ],
            "text/plain": [
              "                 id  toxic  severe_toxic  ...  threat  insult  identity_hate\n",
              "0  00001cee341fdb12    0.5           0.5  ...     0.5     0.5            0.5\n",
              "1  0000247867823ef7    0.5           0.5  ...     0.5     0.5            0.5\n",
              "2  00013b17ad220c46    0.5           0.5  ...     0.5     0.5            0.5\n",
              "3  00017563c3f7919a    0.5           0.5  ...     0.5     0.5            0.5\n",
              "4  00017695ad8997eb    0.5           0.5  ...     0.5     0.5            0.5\n",
              "\n",
              "[5 rows x 7 columns]"
            ]
          },
          "metadata": {
            "tags": []
          },
          "execution_count": 26
        }
      ]
    },
    {
      "cell_type": "code",
      "metadata": {
        "id": "BeKUgMyx8Kra",
        "colab_type": "code",
        "colab": {}
      },
      "source": [
        "final_submission = pd.concat([sample_submission[\"id\"],df.iloc[:,1:]], axis = 1)"
      ],
      "execution_count": 0,
      "outputs": []
    },
    {
      "cell_type": "code",
      "metadata": {
        "id": "3l7uYidg8L7n",
        "colab_type": "code",
        "colab": {
          "base_uri": "https://localhost:8080/",
          "height": 200
        },
        "outputId": "a9fc9e98-e8be-4e6a-9e54-0e2e569216ef"
      },
      "source": [
        "final_submission.head()"
      ],
      "execution_count": 28,
      "outputs": [
        {
          "output_type": "execute_result",
          "data": {
            "text/html": [
              "<div>\n",
              "<style scoped>\n",
              "    .dataframe tbody tr th:only-of-type {\n",
              "        vertical-align: middle;\n",
              "    }\n",
              "\n",
              "    .dataframe tbody tr th {\n",
              "        vertical-align: top;\n",
              "    }\n",
              "\n",
              "    .dataframe thead th {\n",
              "        text-align: right;\n",
              "    }\n",
              "</style>\n",
              "<table border=\"1\" class=\"dataframe\">\n",
              "  <thead>\n",
              "    <tr style=\"text-align: right;\">\n",
              "      <th></th>\n",
              "      <th>id</th>\n",
              "      <th>toxic</th>\n",
              "      <th>severe_toxic</th>\n",
              "      <th>obscene</th>\n",
              "      <th>threat</th>\n",
              "      <th>insult</th>\n",
              "      <th>identity_hate</th>\n",
              "    </tr>\n",
              "  </thead>\n",
              "  <tbody>\n",
              "    <tr>\n",
              "      <th>0</th>\n",
              "      <td>00001cee341fdb12</td>\n",
              "      <td>0.998231</td>\n",
              "      <td>0.378732</td>\n",
              "      <td>0.995745</td>\n",
              "      <td>0.038348</td>\n",
              "      <td>0.953207</td>\n",
              "      <td>0.162007</td>\n",
              "    </tr>\n",
              "    <tr>\n",
              "      <th>1</th>\n",
              "      <td>0000247867823ef7</td>\n",
              "      <td>0.834741</td>\n",
              "      <td>0.020899</td>\n",
              "      <td>0.168356</td>\n",
              "      <td>0.013826</td>\n",
              "      <td>0.254786</td>\n",
              "      <td>0.052973</td>\n",
              "    </tr>\n",
              "    <tr>\n",
              "      <th>2</th>\n",
              "      <td>00013b17ad220c46</td>\n",
              "      <td>0.877262</td>\n",
              "      <td>0.023404</td>\n",
              "      <td>0.305177</td>\n",
              "      <td>0.016201</td>\n",
              "      <td>0.322718</td>\n",
              "      <td>0.040897</td>\n",
              "    </tr>\n",
              "    <tr>\n",
              "      <th>3</th>\n",
              "      <td>00017563c3f7919a</td>\n",
              "      <td>0.007811</td>\n",
              "      <td>0.000280</td>\n",
              "      <td>0.001792</td>\n",
              "      <td>0.000366</td>\n",
              "      <td>0.002636</td>\n",
              "      <td>0.000558</td>\n",
              "    </tr>\n",
              "    <tr>\n",
              "      <th>4</th>\n",
              "      <td>00017695ad8997eb</td>\n",
              "      <td>0.755440</td>\n",
              "      <td>0.007590</td>\n",
              "      <td>0.099156</td>\n",
              "      <td>0.007321</td>\n",
              "      <td>0.156043</td>\n",
              "      <td>0.028790</td>\n",
              "    </tr>\n",
              "  </tbody>\n",
              "</table>\n",
              "</div>"
            ],
            "text/plain": [
              "                 id     toxic  severe_toxic  ...    threat    insult  identity_hate\n",
              "0  00001cee341fdb12  0.998231      0.378732  ...  0.038348  0.953207       0.162007\n",
              "1  0000247867823ef7  0.834741      0.020899  ...  0.013826  0.254786       0.052973\n",
              "2  00013b17ad220c46  0.877262      0.023404  ...  0.016201  0.322718       0.040897\n",
              "3  00017563c3f7919a  0.007811      0.000280  ...  0.000366  0.002636       0.000558\n",
              "4  00017695ad8997eb  0.755440      0.007590  ...  0.007321  0.156043       0.028790\n",
              "\n",
              "[5 rows x 7 columns]"
            ]
          },
          "metadata": {
            "tags": []
          },
          "execution_count": 28
        }
      ]
    },
    {
      "cell_type": "code",
      "metadata": {
        "id": "oBdaTaJW8UWQ",
        "colab_type": "code",
        "colab": {}
      },
      "source": [
        "final_submission.to_csv(r\"/content/drive/My Drive/Colab Notebooks/NLP - Sem 6/Project/Datasets/submission.csv\", index = False)"
      ],
      "execution_count": 0,
      "outputs": []
    },
    {
      "cell_type": "markdown",
      "metadata": {
        "id": "ck8JcrEMHiV8",
        "colab_type": "text"
      },
      "source": [
        "# ----------------- THE END -----------------"
      ]
    }
  ]
}